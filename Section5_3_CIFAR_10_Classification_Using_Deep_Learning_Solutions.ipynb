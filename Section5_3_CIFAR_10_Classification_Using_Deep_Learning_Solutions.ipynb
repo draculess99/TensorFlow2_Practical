{
  "nbformat": 4,
  "nbformat_minor": 0,
  "metadata": {
    "colab": {
      "name": "9. CIFAR-10 Classification Using Deep Learning - Solutions.ipynb",
      "provenance": [],
      "collapsed_sections": [],
      "toc_visible": true,
      "include_colab_link": true
    },
    "kernelspec": {
      "name": "python3",
      "display_name": "Python 3"
    },
    "accelerator": "GPU"
  },
  "cells": [
    {
      "cell_type": "markdown",
      "metadata": {
        "id": "view-in-github",
        "colab_type": "text"
      },
      "source": [
        "<a href=\"https://colab.research.google.com/github/draculess99/TensorFlow2_Practical/blob/master/Section5_3_CIFAR_10_Classification_Using_Deep_Learning_Solutions.ipynb\" target=\"_parent\"><img src=\"https://colab.research.google.com/assets/colab-badge.svg\" alt=\"Open In Colab\"/></a>"
      ]
    },
    {
      "cell_type": "markdown",
      "metadata": {
        "id": "JnKRe0p9h35K",
        "colab_type": "text"
      },
      "source": [
        "# STEP #0: PROBLEM STATEMENT  "
      ]
    },
    {
      "cell_type": "code",
      "metadata": {
        "id": "8C7kOv0eHKSi",
        "colab_type": "code",
        "colab": {}
      },
      "source": [
        ""
      ],
      "execution_count": 0,
      "outputs": []
    },
    {
      "cell_type": "markdown",
      "metadata": {
        "id": "HA5wDtIB_IjC",
        "colab_type": "text"
      },
      "source": [
        "- CIFAR-10 is a dataset that consists of several images divided into the following 10 classes: \n",
        "    - Airplanes\n",
        "    - Cars \n",
        "    - Birds\n",
        "    - Cats\n",
        "    - Deer\n",
        "    - Dogs\n",
        "    - Frogs\n",
        "    - Horses\n",
        "    - Ships\n",
        "    - Trucks\n",
        "\n",
        "- The dataset stands for the Canadian Institute For Advanced Research (CIFAR)\n",
        "- CIFAR-10 is widely used for machine learning and computer vision applications. \n",
        "- The dataset consists of 60,000 32x32 color images and 6,000 images of each class.\n",
        "- Images have low resolution (32x32). \n",
        "- Data Source: https://www.cs.toronto.edu/~kriz/cifar.html\n",
        "- Fashion training set consists of 70,000 images divided into 60,000 training and 10,000 testing samples. Dataset sample consists of 28x28 grayscale image, associated with a label from 10 classes. \n",
        "\n"
      ]
    },
    {
      "cell_type": "markdown",
      "metadata": {
        "id": "fr6pOOh0hHaj",
        "colab_type": "text"
      },
      "source": [
        "# STEP #1: IMPORT LIBRARIES"
      ]
    },
    {
      "cell_type": "code",
      "metadata": {
        "id": "sgeamaKI_5N_",
        "colab_type": "code",
        "outputId": "02419085-abd4-44b8-ecdc-c10db65a9629",
        "colab": {
          "base_uri": "https://localhost:8080/",
          "height": 128
        }
      },
      "source": [
        "from google.colab import drive\n",
        "drive.mount('/content/drive')"
      ],
      "execution_count": 1,
      "outputs": [
        {
          "output_type": "stream",
          "text": [
            "Go to this URL in a browser: https://accounts.google.com/o/oauth2/auth?client_id=947318989803-6bn6qk8qdgf4n4g3pfee6491hc0brc4i.apps.googleusercontent.com&redirect_uri=urn%3aietf%3awg%3aoauth%3a2.0%3aoob&response_type=code&scope=email%20https%3a%2f%2fwww.googleapis.com%2fauth%2fdocs.test%20https%3a%2f%2fwww.googleapis.com%2fauth%2fdrive%20https%3a%2f%2fwww.googleapis.com%2fauth%2fdrive.photos.readonly%20https%3a%2f%2fwww.googleapis.com%2fauth%2fpeopleapi.readonly\n",
            "\n",
            "Enter your authorization code:\n",
            "··········\n",
            "Mounted at /content/drive\n"
          ],
          "name": "stdout"
        }
      ]
    },
    {
      "cell_type": "code",
      "metadata": {
        "id": "PcsD7hiN_XXL",
        "colab_type": "code",
        "outputId": "ccd83c4a-a295-403d-8a06-d0558a953f5f",
        "colab": {
          "base_uri": "https://localhost:8080/",
          "height": 528
        }
      },
      "source": [
        "!pip install tensorflow-gpu==2.0.0.alpha0"
      ],
      "execution_count": 2,
      "outputs": [
        {
          "output_type": "stream",
          "text": [
            "Collecting tensorflow-gpu==2.0.0.alpha0\n",
            "\u001b[?25l  Downloading https://files.pythonhosted.org/packages/1a/66/32cffad095253219d53f6b6c2a436637bbe45ac4e7be0244557210dc3918/tensorflow_gpu-2.0.0a0-cp36-cp36m-manylinux1_x86_64.whl (332.1MB)\n",
            "\u001b[K     |████████████████████████████████| 332.1MB 49kB/s \n",
            "\u001b[?25hRequirement already satisfied: google-pasta>=0.1.2 in /usr/local/lib/python3.6/dist-packages (from tensorflow-gpu==2.0.0.alpha0) (0.1.8)\n",
            "Requirement already satisfied: termcolor>=1.1.0 in /usr/local/lib/python3.6/dist-packages (from tensorflow-gpu==2.0.0.alpha0) (1.1.0)\n",
            "Requirement already satisfied: wheel>=0.26 in /usr/local/lib/python3.6/dist-packages (from tensorflow-gpu==2.0.0.alpha0) (0.33.6)\n",
            "Requirement already satisfied: grpcio>=1.8.6 in /usr/local/lib/python3.6/dist-packages (from tensorflow-gpu==2.0.0.alpha0) (1.15.0)\n",
            "Requirement already satisfied: astor>=0.6.0 in /usr/local/lib/python3.6/dist-packages (from tensorflow-gpu==2.0.0.alpha0) (0.8.1)\n",
            "Requirement already satisfied: absl-py>=0.7.0 in /usr/local/lib/python3.6/dist-packages (from tensorflow-gpu==2.0.0.alpha0) (0.8.1)\n",
            "Requirement already satisfied: six>=1.10.0 in /usr/local/lib/python3.6/dist-packages (from tensorflow-gpu==2.0.0.alpha0) (1.12.0)\n",
            "Requirement already satisfied: protobuf>=3.6.1 in /usr/local/lib/python3.6/dist-packages (from tensorflow-gpu==2.0.0.alpha0) (3.10.0)\n",
            "Collecting tb-nightly<1.14.0a20190302,>=1.14.0a20190301\n",
            "\u001b[?25l  Downloading https://files.pythonhosted.org/packages/a9/51/aa1d756644bf4624c03844115e4ac4058eff77acd786b26315f051a4b195/tb_nightly-1.14.0a20190301-py3-none-any.whl (3.0MB)\n",
            "\u001b[K     |████████████████████████████████| 3.0MB 41.9MB/s \n",
            "\u001b[?25hCollecting tf-estimator-nightly<1.14.0.dev2019030116,>=1.14.0.dev2019030115\n",
            "\u001b[?25l  Downloading https://files.pythonhosted.org/packages/13/82/f16063b4eed210dc2ab057930ac1da4fbe1e91b7b051a6c8370b401e6ae7/tf_estimator_nightly-1.14.0.dev2019030115-py2.py3-none-any.whl (411kB)\n",
            "\u001b[K     |████████████████████████████████| 419kB 42.7MB/s \n",
            "\u001b[?25hRequirement already satisfied: gast>=0.2.0 in /usr/local/lib/python3.6/dist-packages (from tensorflow-gpu==2.0.0.alpha0) (0.2.2)\n",
            "Requirement already satisfied: keras-preprocessing>=1.0.5 in /usr/local/lib/python3.6/dist-packages (from tensorflow-gpu==2.0.0.alpha0) (1.1.0)\n",
            "Requirement already satisfied: keras-applications>=1.0.6 in /usr/local/lib/python3.6/dist-packages (from tensorflow-gpu==2.0.0.alpha0) (1.0.8)\n",
            "Requirement already satisfied: numpy<2.0,>=1.14.5 in /usr/local/lib/python3.6/dist-packages (from tensorflow-gpu==2.0.0.alpha0) (1.17.4)\n",
            "Requirement already satisfied: setuptools in /usr/local/lib/python3.6/dist-packages (from protobuf>=3.6.1->tensorflow-gpu==2.0.0.alpha0) (42.0.2)\n",
            "Requirement already satisfied: werkzeug>=0.11.15 in /usr/local/lib/python3.6/dist-packages (from tb-nightly<1.14.0a20190302,>=1.14.0a20190301->tensorflow-gpu==2.0.0.alpha0) (0.16.0)\n",
            "Requirement already satisfied: markdown>=2.6.8 in /usr/local/lib/python3.6/dist-packages (from tb-nightly<1.14.0a20190302,>=1.14.0a20190301->tensorflow-gpu==2.0.0.alpha0) (3.1.1)\n",
            "Requirement already satisfied: h5py in /usr/local/lib/python3.6/dist-packages (from keras-applications>=1.0.6->tensorflow-gpu==2.0.0.alpha0) (2.8.0)\n",
            "Installing collected packages: tb-nightly, tf-estimator-nightly, tensorflow-gpu\n",
            "Successfully installed tb-nightly-1.14.0a20190301 tensorflow-gpu-2.0.0a0 tf-estimator-nightly-1.14.0.dev2019030115\n"
          ],
          "name": "stdout"
        }
      ]
    },
    {
      "cell_type": "code",
      "metadata": {
        "id": "QqPjanlXkVzi",
        "colab_type": "code",
        "colab": {
          "base_uri": "https://localhost:8080/",
          "height": 474
        },
        "outputId": "120e7e7b-fd07-42bb-e0c0-a9e4557f006c"
      },
      "source": [
        "import numpy as np\n",
        "import datetime\n",
        "import tensorflow as tf\n",
        "\n",
        "import pandas as pd\n",
        "import numpy as np\n",
        "import matplotlib.pyplot as plt\n",
        "import seaborn as sns\n",
        "import random "
      ],
      "execution_count": 3,
      "outputs": [
        {
          "output_type": "stream",
          "text": [
            "/usr/local/lib/python3.6/dist-packages/tensorflow/python/framework/dtypes.py:523: FutureWarning: Passing (type, 1) or '1type' as a synonym of type is deprecated; in a future version of numpy, it will be understood as (type, (1,)) / '(1,)type'.\n",
            "  _np_qint8 = np.dtype([(\"qint8\", np.int8, 1)])\n",
            "/usr/local/lib/python3.6/dist-packages/tensorflow/python/framework/dtypes.py:524: FutureWarning: Passing (type, 1) or '1type' as a synonym of type is deprecated; in a future version of numpy, it will be understood as (type, (1,)) / '(1,)type'.\n",
            "  _np_quint8 = np.dtype([(\"quint8\", np.uint8, 1)])\n",
            "/usr/local/lib/python3.6/dist-packages/tensorflow/python/framework/dtypes.py:525: FutureWarning: Passing (type, 1) or '1type' as a synonym of type is deprecated; in a future version of numpy, it will be understood as (type, (1,)) / '(1,)type'.\n",
            "  _np_qint16 = np.dtype([(\"qint16\", np.int16, 1)])\n",
            "/usr/local/lib/python3.6/dist-packages/tensorflow/python/framework/dtypes.py:526: FutureWarning: Passing (type, 1) or '1type' as a synonym of type is deprecated; in a future version of numpy, it will be understood as (type, (1,)) / '(1,)type'.\n",
            "  _np_quint16 = np.dtype([(\"quint16\", np.uint16, 1)])\n",
            "/usr/local/lib/python3.6/dist-packages/tensorflow/python/framework/dtypes.py:527: FutureWarning: Passing (type, 1) or '1type' as a synonym of type is deprecated; in a future version of numpy, it will be understood as (type, (1,)) / '(1,)type'.\n",
            "  _np_qint32 = np.dtype([(\"qint32\", np.int32, 1)])\n",
            "/usr/local/lib/python3.6/dist-packages/tensorflow/python/framework/dtypes.py:532: FutureWarning: Passing (type, 1) or '1type' as a synonym of type is deprecated; in a future version of numpy, it will be understood as (type, (1,)) / '(1,)type'.\n",
            "  np_resource = np.dtype([(\"resource\", np.ubyte, 1)])\n",
            "/usr/local/lib/python3.6/dist-packages/tensorboard/compat/tensorflow_stub/dtypes.py:541: FutureWarning: Passing (type, 1) or '1type' as a synonym of type is deprecated; in a future version of numpy, it will be understood as (type, (1,)) / '(1,)type'.\n",
            "  _np_qint8 = np.dtype([(\"qint8\", np.int8, 1)])\n",
            "/usr/local/lib/python3.6/dist-packages/tensorboard/compat/tensorflow_stub/dtypes.py:542: FutureWarning: Passing (type, 1) or '1type' as a synonym of type is deprecated; in a future version of numpy, it will be understood as (type, (1,)) / '(1,)type'.\n",
            "  _np_quint8 = np.dtype([(\"quint8\", np.uint8, 1)])\n",
            "/usr/local/lib/python3.6/dist-packages/tensorboard/compat/tensorflow_stub/dtypes.py:543: FutureWarning: Passing (type, 1) or '1type' as a synonym of type is deprecated; in a future version of numpy, it will be understood as (type, (1,)) / '(1,)type'.\n",
            "  _np_qint16 = np.dtype([(\"qint16\", np.int16, 1)])\n",
            "/usr/local/lib/python3.6/dist-packages/tensorboard/compat/tensorflow_stub/dtypes.py:544: FutureWarning: Passing (type, 1) or '1type' as a synonym of type is deprecated; in a future version of numpy, it will be understood as (type, (1,)) / '(1,)type'.\n",
            "  _np_quint16 = np.dtype([(\"quint16\", np.uint16, 1)])\n",
            "/usr/local/lib/python3.6/dist-packages/tensorboard/compat/tensorflow_stub/dtypes.py:545: FutureWarning: Passing (type, 1) or '1type' as a synonym of type is deprecated; in a future version of numpy, it will be understood as (type, (1,)) / '(1,)type'.\n",
            "  _np_qint32 = np.dtype([(\"qint32\", np.int32, 1)])\n",
            "/usr/local/lib/python3.6/dist-packages/tensorboard/compat/tensorflow_stub/dtypes.py:550: FutureWarning: Passing (type, 1) or '1type' as a synonym of type is deprecated; in a future version of numpy, it will be understood as (type, (1,)) / '(1,)type'.\n",
            "  np_resource = np.dtype([(\"resource\", np.ubyte, 1)])\n"
          ],
          "name": "stderr"
        }
      ]
    },
    {
      "cell_type": "code",
      "metadata": {
        "id": "_je5sPfjk_r1",
        "colab_type": "code",
        "outputId": "92435174-7094-43b5-dfd4-826f746b655c",
        "colab": {
          "base_uri": "https://localhost:8080/",
          "height": 35
        }
      },
      "source": [
        "tf.__version__"
      ],
      "execution_count": 4,
      "outputs": [
        {
          "output_type": "execute_result",
          "data": {
            "text/plain": [
              "'2.0.0-alpha0'"
            ]
          },
          "metadata": {
            "tags": []
          },
          "execution_count": 4
        }
      ]
    },
    {
      "cell_type": "markdown",
      "metadata": {
        "id": "qqOSkGp9R55q",
        "colab_type": "text"
      },
      "source": [
        "# STEP #2: LOAD DATASET"
      ]
    },
    {
      "cell_type": "code",
      "metadata": {
        "id": "G2CwugSPR_Ph",
        "colab_type": "code",
        "outputId": "7a6d01e8-eb13-437d-c452-19946de9eccc",
        "colab": {
          "base_uri": "https://localhost:8080/",
          "height": 53
        }
      },
      "source": [
        "# from keras.datasets import cifar10\n",
        "# (X_train, y_train) , (X_test, y_test) = cifar10.load_data()\n",
        "\n",
        "\n",
        "(X_train, y_train) , (X_test, y_test) = tf.keras.datasets.cifar10.load_data()"
      ],
      "execution_count": 5,
      "outputs": [
        {
          "output_type": "stream",
          "text": [
            "Downloading data from https://www.cs.toronto.edu/~kriz/cifar-10-python.tar.gz\n",
            "170500096/170498071 [==============================] - 6s 0us/step\n"
          ],
          "name": "stdout"
        }
      ]
    },
    {
      "cell_type": "code",
      "metadata": {
        "id": "7qiadMwRzHjv",
        "colab_type": "code",
        "outputId": "9a4ffbc6-78d6-4b5e-82cb-fcbba94317a4",
        "colab": {
          "base_uri": "https://localhost:8080/",
          "height": 35
        }
      },
      "source": [
        "X_train.shape"
      ],
      "execution_count": 6,
      "outputs": [
        {
          "output_type": "execute_result",
          "data": {
            "text/plain": [
              "(50000, 32, 32, 3)"
            ]
          },
          "metadata": {
            "tags": []
          },
          "execution_count": 6
        }
      ]
    },
    {
      "cell_type": "code",
      "metadata": {
        "id": "x2p8Z2nGzHeS",
        "colab_type": "code",
        "outputId": "9cb68d20-d701-48c8-da8a-320a74b9094e",
        "colab": {
          "base_uri": "https://localhost:8080/",
          "height": 35
        }
      },
      "source": [
        "X_test.shape"
      ],
      "execution_count": 7,
      "outputs": [
        {
          "output_type": "execute_result",
          "data": {
            "text/plain": [
              "(10000, 32, 32, 3)"
            ]
          },
          "metadata": {
            "tags": []
          },
          "execution_count": 7
        }
      ]
    },
    {
      "cell_type": "code",
      "metadata": {
        "id": "xF5S9oPlzHbu",
        "colab_type": "code",
        "outputId": "7c1bc269-28eb-4507-fab1-42521f8113ae",
        "colab": {
          "base_uri": "https://localhost:8080/",
          "height": 35
        }
      },
      "source": [
        "y_train.shape"
      ],
      "execution_count": 8,
      "outputs": [
        {
          "output_type": "execute_result",
          "data": {
            "text/plain": [
              "(50000, 1)"
            ]
          },
          "metadata": {
            "tags": []
          },
          "execution_count": 8
        }
      ]
    },
    {
      "cell_type": "code",
      "metadata": {
        "id": "gBk6YAUIzKgx",
        "colab_type": "code",
        "outputId": "f4f29c8d-c6fa-48b5-ac9a-c93839550dc7",
        "colab": {
          "base_uri": "https://localhost:8080/",
          "height": 35
        }
      },
      "source": [
        "y_test.shape"
      ],
      "execution_count": 9,
      "outputs": [
        {
          "output_type": "execute_result",
          "data": {
            "text/plain": [
              "(10000, 1)"
            ]
          },
          "metadata": {
            "tags": []
          },
          "execution_count": 9
        }
      ]
    },
    {
      "cell_type": "markdown",
      "metadata": {
        "id": "jWb45OshSDsr",
        "colab_type": "text"
      },
      "source": [
        "# STEP #3: DATA VISUALIZATION"
      ]
    },
    {
      "cell_type": "code",
      "metadata": {
        "id": "epTpLOpMz7Xh",
        "colab_type": "code",
        "outputId": "10eaba71-81e6-471e-bcca-a17171447460",
        "colab": {
          "base_uri": "https://localhost:8080/",
          "height": 284
        }
      },
      "source": [
        "i = 300\n",
        "plt.imshow(X_train[i])\n",
        "print(y_train[i])"
      ],
      "execution_count": 10,
      "outputs": [
        {
          "output_type": "stream",
          "text": [
            "[2]\n"
          ],
          "name": "stdout"
        },
        {
          "output_type": "display_data",
          "data": {
            "image/png": "[encoded data removed]",
            "text/plain": [
              "<Figure size 432x288 with 1 Axes>"
            ]
          },
          "metadata": {
            "tags": []
          }
        }
      ]
    },
    {
      "cell_type": "code",
      "metadata": {
        "id": "yKGKnQPDz7U-",
        "colab_type": "code",
        "outputId": "abb75608-0b46-42bf-a416-890be527c973",
        "colab": {
          "base_uri": "https://localhost:8080/",
          "height": 918
        }
      },
      "source": [
        "W_grid = 4\n",
        "L_grid = 4\n",
        "\n",
        "fig, axes = plt.subplots(L_grid, W_grid, figsize = (15, 15))\n",
        "axes = axes.ravel()\n",
        "\n",
        "n_training = len(X_train)\n",
        "\n",
        "for i in np.arange(0, L_grid * W_grid):\n",
        "    index = np.random.randint(0, n_training) # pick a random number\n",
        "    axes[i].imshow(X_train[index])\n",
        "    axes[i].set_title(y_train[index])\n",
        "    axes[i].axis('off')\n",
        "    \n",
        "plt.subplots_adjust(hspace = 0.4)"
      ],
      "execution_count": 11,
      "outputs": [
        {
          "output_type": "stream",
          "text": [
            "/usr/local/lib/python3.6/dist-packages/matplotlib/text.py:1150: FutureWarning: elementwise comparison failed; returning scalar instead, but in the future will perform elementwise comparison\n",
            "  if s != self._text:\n"
          ],
          "name": "stderr"
        },
        {
          "output_type": "display_data",
          "data": {
            "image/png": "[encoded data removed]",
            "text/plain": [
              "<Figure size 1080x1080 with 16 Axes>"
            ]
          },
          "metadata": {
            "tags": []
          }
        }
      ]
    },
    {
      "cell_type": "code",
      "metadata": {
        "id": "ZmNvTQlGz7Sf",
        "colab_type": "code",
        "outputId": "6b3ec4b6-5872-4f54-97f7-3be363d28575",
        "colab": {
          "base_uri": "https://localhost:8080/",
          "height": 35
        }
      },
      "source": [
        "n_training"
      ],
      "execution_count": 12,
      "outputs": [
        {
          "output_type": "execute_result",
          "data": {
            "text/plain": [
              "50000"
            ]
          },
          "metadata": {
            "tags": []
          },
          "execution_count": 12
        }
      ]
    },
    {
      "cell_type": "markdown",
      "metadata": {
        "id": "zPcXYuTkoko7",
        "colab_type": "text"
      },
      "source": [
        "# STEP#4: DATA PREPARATION"
      ]
    },
    {
      "cell_type": "code",
      "metadata": {
        "id": "7OkRpfq-h5tJ",
        "colab_type": "code",
        "outputId": "ae580a9f-22ac-488c-a415-d7bc41893ba3",
        "colab": {
          "base_uri": "https://localhost:8080/",
          "height": 1000
        }
      },
      "source": [
        "X_train"
      ],
      "execution_count": 13,
      "outputs": [
        {
          "output_type": "execute_result",
          "data": {
            "text/plain": [
              "array([[[[ 59,  62,  63],\n",
              "         [ 43,  46,  45],\n",
              "         [ 50,  48,  43],\n",
              "         ...,\n",
              "         [158, 132, 108],\n",
              "         [152, 125, 102],\n",
              "         [148, 124, 103]],\n",
              "\n",
              "        [[ 16,  20,  20],\n",
              "         [  0,   0,   0],\n",
              "         [ 18,   8,   0],\n",
              "         ...,\n",
              "         [123,  88,  55],\n",
              "         [119,  83,  50],\n",
              "         [122,  87,  57]],\n",
              "\n",
              "        [[ 25,  24,  21],\n",
              "         [ 16,   7,   0],\n",
              "         [ 49,  27,   8],\n",
              "         ...,\n",
              "         [118,  84,  50],\n",
              "         [120,  84,  50],\n",
              "         [109,  73,  42]],\n",
              "\n",
              "        ...,\n",
              "\n",
              "        [[208, 170,  96],\n",
              "         [201, 153,  34],\n",
              "         [198, 161,  26],\n",
              "         ...,\n",
              "         [160, 133,  70],\n",
              "         [ 56,  31,   7],\n",
              "         [ 53,  34,  20]],\n",
              "\n",
              "        [[180, 139,  96],\n",
              "         [173, 123,  42],\n",
              "         [186, 144,  30],\n",
              "         ...,\n",
              "         [184, 148,  94],\n",
              "         [ 97,  62,  34],\n",
              "         [ 83,  53,  34]],\n",
              "\n",
              "        [[177, 144, 116],\n",
              "         [168, 129,  94],\n",
              "         [179, 142,  87],\n",
              "         ...,\n",
              "         [216, 184, 140],\n",
              "         [151, 118,  84],\n",
              "         [123,  92,  72]]],\n",
              "\n",
              "\n",
              "       [[[154, 177, 187],\n",
              "         [126, 137, 136],\n",
              "         [105, 104,  95],\n",
              "         ...,\n",
              "         [ 91,  95,  71],\n",
              "         [ 87,  90,  71],\n",
              "         [ 79,  81,  70]],\n",
              "\n",
              "        [[140, 160, 169],\n",
              "         [145, 153, 154],\n",
              "         [125, 125, 118],\n",
              "         ...,\n",
              "         [ 96,  99,  78],\n",
              "         [ 77,  80,  62],\n",
              "         [ 71,  73,  61]],\n",
              "\n",
              "        [[140, 155, 164],\n",
              "         [139, 146, 149],\n",
              "         [115, 115, 112],\n",
              "         ...,\n",
              "         [ 79,  82,  64],\n",
              "         [ 68,  70,  55],\n",
              "         [ 67,  69,  55]],\n",
              "\n",
              "        ...,\n",
              "\n",
              "        [[175, 167, 166],\n",
              "         [156, 154, 160],\n",
              "         [154, 160, 170],\n",
              "         ...,\n",
              "         [ 42,  34,  36],\n",
              "         [ 61,  53,  57],\n",
              "         [ 93,  83,  91]],\n",
              "\n",
              "        [[165, 154, 128],\n",
              "         [156, 152, 130],\n",
              "         [159, 161, 142],\n",
              "         ...,\n",
              "         [103,  93,  96],\n",
              "         [123, 114, 120],\n",
              "         [131, 121, 131]],\n",
              "\n",
              "        [[163, 148, 120],\n",
              "         [158, 148, 122],\n",
              "         [163, 156, 133],\n",
              "         ...,\n",
              "         [143, 133, 139],\n",
              "         [143, 134, 142],\n",
              "         [143, 133, 144]]],\n",
              "\n",
              "\n",
              "       [[[255, 255, 255],\n",
              "         [253, 253, 253],\n",
              "         [253, 253, 253],\n",
              "         ...,\n",
              "         [253, 253, 253],\n",
              "         [253, 253, 253],\n",
              "         [253, 253, 253]],\n",
              "\n",
              "        [[255, 255, 255],\n",
              "         [255, 255, 255],\n",
              "         [255, 255, 255],\n",
              "         ...,\n",
              "         [255, 255, 255],\n",
              "         [255, 255, 255],\n",
              "         [255, 255, 255]],\n",
              "\n",
              "        [[255, 255, 255],\n",
              "         [254, 254, 254],\n",
              "         [254, 254, 254],\n",
              "         ...,\n",
              "         [254, 254, 254],\n",
              "         [254, 254, 254],\n",
              "         [254, 254, 254]],\n",
              "\n",
              "        ...,\n",
              "\n",
              "        [[113, 120, 112],\n",
              "         [111, 118, 111],\n",
              "         [105, 112, 106],\n",
              "         ...,\n",
              "         [ 72,  81,  80],\n",
              "         [ 72,  80,  79],\n",
              "         [ 72,  80,  79]],\n",
              "\n",
              "        [[111, 118, 110],\n",
              "         [104, 111, 104],\n",
              "         [ 99, 106,  98],\n",
              "         ...,\n",
              "         [ 68,  75,  73],\n",
              "         [ 70,  76,  75],\n",
              "         [ 78,  84,  82]],\n",
              "\n",
              "        [[106, 113, 105],\n",
              "         [ 99, 106,  98],\n",
              "         [ 95, 102,  94],\n",
              "         ...,\n",
              "         [ 78,  85,  83],\n",
              "         [ 79,  85,  83],\n",
              "         [ 80,  86,  84]]],\n",
              "\n",
              "\n",
              "       ...,\n",
              "\n",
              "\n",
              "       [[[ 35, 178, 235],\n",
              "         [ 40, 176, 239],\n",
              "         [ 42, 176, 241],\n",
              "         ...,\n",
              "         [ 99, 177, 219],\n",
              "         [ 79, 147, 197],\n",
              "         [ 89, 148, 189]],\n",
              "\n",
              "        [[ 57, 182, 234],\n",
              "         [ 44, 184, 250],\n",
              "         [ 50, 183, 240],\n",
              "         ...,\n",
              "         [156, 182, 200],\n",
              "         [141, 177, 206],\n",
              "         [116, 149, 175]],\n",
              "\n",
              "        [[ 98, 197, 237],\n",
              "         [ 64, 189, 252],\n",
              "         [ 69, 192, 245],\n",
              "         ...,\n",
              "         [188, 195, 206],\n",
              "         [119, 135, 147],\n",
              "         [ 61,  79,  90]],\n",
              "\n",
              "        ...,\n",
              "\n",
              "        [[ 73,  79,  77],\n",
              "         [ 53,  63,  68],\n",
              "         [ 54,  68,  80],\n",
              "         ...,\n",
              "         [ 17,  40,  64],\n",
              "         [ 21,  36,  51],\n",
              "         [ 33,  48,  49]],\n",
              "\n",
              "        [[ 61,  68,  75],\n",
              "         [ 55,  70,  86],\n",
              "         [ 57,  79, 103],\n",
              "         ...,\n",
              "         [ 24,  48,  72],\n",
              "         [ 17,  35,  53],\n",
              "         [  7,  23,  32]],\n",
              "\n",
              "        [[ 44,  56,  73],\n",
              "         [ 46,  66,  88],\n",
              "         [ 49,  77, 105],\n",
              "         ...,\n",
              "         [ 27,  52,  77],\n",
              "         [ 21,  43,  66],\n",
              "         [ 12,  31,  50]]],\n",
              "\n",
              "\n",
              "       [[[189, 211, 240],\n",
              "         [186, 208, 236],\n",
              "         [185, 207, 235],\n",
              "         ...,\n",
              "         [175, 195, 224],\n",
              "         [172, 194, 222],\n",
              "         [169, 194, 220]],\n",
              "\n",
              "        [[194, 210, 239],\n",
              "         [191, 207, 236],\n",
              "         [190, 206, 235],\n",
              "         ...,\n",
              "         [173, 192, 220],\n",
              "         [171, 191, 218],\n",
              "         [167, 190, 216]],\n",
              "\n",
              "        [[208, 219, 244],\n",
              "         [205, 216, 240],\n",
              "         [204, 215, 239],\n",
              "         ...,\n",
              "         [175, 191, 217],\n",
              "         [172, 190, 216],\n",
              "         [169, 191, 215]],\n",
              "\n",
              "        ...,\n",
              "\n",
              "        [[207, 199, 181],\n",
              "         [203, 195, 175],\n",
              "         [203, 196, 173],\n",
              "         ...,\n",
              "         [135, 132, 127],\n",
              "         [162, 158, 150],\n",
              "         [168, 163, 151]],\n",
              "\n",
              "        [[198, 190, 170],\n",
              "         [189, 181, 159],\n",
              "         [180, 172, 147],\n",
              "         ...,\n",
              "         [178, 171, 160],\n",
              "         [175, 169, 156],\n",
              "         [175, 169, 154]],\n",
              "\n",
              "        [[198, 189, 173],\n",
              "         [189, 181, 162],\n",
              "         [178, 170, 149],\n",
              "         ...,\n",
              "         [195, 184, 169],\n",
              "         [196, 189, 171],\n",
              "         [195, 190, 171]]],\n",
              "\n",
              "\n",
              "       [[[229, 229, 239],\n",
              "         [236, 237, 247],\n",
              "         [234, 236, 247],\n",
              "         ...,\n",
              "         [217, 219, 233],\n",
              "         [221, 223, 234],\n",
              "         [222, 223, 233]],\n",
              "\n",
              "        [[222, 221, 229],\n",
              "         [239, 239, 249],\n",
              "         [233, 234, 246],\n",
              "         ...,\n",
              "         [223, 223, 236],\n",
              "         [227, 228, 238],\n",
              "         [210, 211, 220]],\n",
              "\n",
              "        [[213, 206, 211],\n",
              "         [234, 232, 239],\n",
              "         [231, 233, 244],\n",
              "         ...,\n",
              "         [220, 220, 232],\n",
              "         [220, 219, 232],\n",
              "         [202, 203, 215]],\n",
              "\n",
              "        ...,\n",
              "\n",
              "        [[150, 143, 135],\n",
              "         [140, 135, 127],\n",
              "         [132, 127, 120],\n",
              "         ...,\n",
              "         [224, 222, 218],\n",
              "         [230, 228, 225],\n",
              "         [241, 241, 238]],\n",
              "\n",
              "        [[137, 132, 126],\n",
              "         [130, 127, 120],\n",
              "         [125, 121, 115],\n",
              "         ...,\n",
              "         [181, 180, 178],\n",
              "         [202, 201, 198],\n",
              "         [212, 211, 207]],\n",
              "\n",
              "        [[122, 119, 114],\n",
              "         [118, 116, 110],\n",
              "         [120, 116, 111],\n",
              "         ...,\n",
              "         [179, 177, 173],\n",
              "         [164, 164, 162],\n",
              "         [163, 163, 161]]]], dtype=uint8)"
            ]
          },
          "metadata": {
            "tags": []
          },
          "execution_count": 13
        }
      ]
    },
    {
      "cell_type": "code",
      "metadata": {
        "id": "k_tAsxOh0pUY",
        "colab_type": "code",
        "colab": {}
      },
      "source": [
        "X_train = X_train.astype('float32')\n",
        "X_test = X_test.astype('float32')"
      ],
      "execution_count": 0,
      "outputs": []
    },
    {
      "cell_type": "code",
      "metadata": {
        "id": "s6sPomzE0pRl",
        "colab_type": "code",
        "colab": {}
      },
      "source": [
        "number_cat = 10"
      ],
      "execution_count": 0,
      "outputs": []
    },
    {
      "cell_type": "code",
      "metadata": {
        "id": "16bzIGaJ0pMF",
        "colab_type": "code",
        "outputId": "7e693b48-8e11-4252-a6ab-2072a5842a49",
        "colab": {
          "base_uri": "https://localhost:8080/",
          "height": 144
        }
      },
      "source": [
        "y_train"
      ],
      "execution_count": 16,
      "outputs": [
        {
          "output_type": "execute_result",
          "data": {
            "text/plain": [
              "array([[6],\n",
              "       [9],\n",
              "       [9],\n",
              "       ...,\n",
              "       [9],\n",
              "       [1],\n",
              "       [1]], dtype=uint8)"
            ]
          },
          "metadata": {
            "tags": []
          },
          "execution_count": 16
        }
      ]
    },
    {
      "cell_type": "code",
      "metadata": {
        "id": "KhjgCcza0txK",
        "colab_type": "code",
        "outputId": "a78f0df1-3e32-4765-c6f8-5b9c029da3b7",
        "colab": {
          "base_uri": "https://localhost:8080/",
          "height": 35
        }
      },
      "source": [
        "import keras\n",
        "y_train = keras.utils.to_categorical(y_train, number_cat)"
      ],
      "execution_count": 17,
      "outputs": [
        {
          "output_type": "stream",
          "text": [
            "Using TensorFlow backend.\n"
          ],
          "name": "stderr"
        }
      ]
    },
    {
      "cell_type": "code",
      "metadata": {
        "id": "h-m5uXxM0tvN",
        "colab_type": "code",
        "outputId": "417b0c6a-6d9f-47e4-c6e8-50ee91be1c75",
        "colab": {
          "base_uri": "https://localhost:8080/",
          "height": 144
        }
      },
      "source": [
        "y_train"
      ],
      "execution_count": 18,
      "outputs": [
        {
          "output_type": "execute_result",
          "data": {
            "text/plain": [
              "array([[0., 0., 0., ..., 0., 0., 0.],\n",
              "       [0., 0., 0., ..., 0., 0., 1.],\n",
              "       [0., 0., 0., ..., 0., 0., 1.],\n",
              "       ...,\n",
              "       [0., 0., 0., ..., 0., 0., 1.],\n",
              "       [0., 1., 0., ..., 0., 0., 0.],\n",
              "       [0., 1., 0., ..., 0., 0., 0.]], dtype=float32)"
            ]
          },
          "metadata": {
            "tags": []
          },
          "execution_count": 18
        }
      ]
    },
    {
      "cell_type": "code",
      "metadata": {
        "id": "BqNZoFZt0ts2",
        "colab_type": "code",
        "colab": {}
      },
      "source": [
        "y_test = keras.utils.to_categorical(y_test, number_cat)"
      ],
      "execution_count": 0,
      "outputs": []
    },
    {
      "cell_type": "code",
      "metadata": {
        "id": "65FbC89d0tqn",
        "colab_type": "code",
        "outputId": "b0df7666-9e3b-46fb-b457-057fc28fe8d9",
        "colab": {
          "base_uri": "https://localhost:8080/",
          "height": 144
        }
      },
      "source": [
        "y_test"
      ],
      "execution_count": 20,
      "outputs": [
        {
          "output_type": "execute_result",
          "data": {
            "text/plain": [
              "array([[0., 0., 0., ..., 0., 0., 0.],\n",
              "       [0., 0., 0., ..., 0., 1., 0.],\n",
              "       [0., 0., 0., ..., 0., 1., 0.],\n",
              "       ...,\n",
              "       [0., 0., 0., ..., 0., 0., 0.],\n",
              "       [0., 1., 0., ..., 0., 0., 0.],\n",
              "       [0., 0., 0., ..., 1., 0., 0.]], dtype=float32)"
            ]
          },
          "metadata": {
            "tags": []
          },
          "execution_count": 20
        }
      ]
    },
    {
      "cell_type": "code",
      "metadata": {
        "id": "qawyHrvj0yOQ",
        "colab_type": "code",
        "colab": {}
      },
      "source": [
        "X_train = X_train/255\n",
        "X_test = X_test/255\n"
      ],
      "execution_count": 0,
      "outputs": []
    },
    {
      "cell_type": "code",
      "metadata": {
        "id": "7qZgEU6C0yL6",
        "colab_type": "code",
        "outputId": "c05a3e69-32a6-49dd-bc9b-ef058df8a993",
        "colab": {
          "base_uri": "https://localhost:8080/",
          "height": 1000
        }
      },
      "source": [
        "X_train"
      ],
      "execution_count": 22,
      "outputs": [
        {
          "output_type": "execute_result",
          "data": {
            "text/plain": [
              "array([[[[0.23137255, 0.24313726, 0.24705882],\n",
              "         [0.16862746, 0.18039216, 0.1764706 ],\n",
              "         [0.19607843, 0.1882353 , 0.16862746],\n",
              "         ...,\n",
              "         [0.61960787, 0.5176471 , 0.42352942],\n",
              "         [0.59607846, 0.49019608, 0.4       ],\n",
              "         [0.5803922 , 0.4862745 , 0.40392157]],\n",
              "\n",
              "        [[0.0627451 , 0.07843138, 0.07843138],\n",
              "         [0.        , 0.        , 0.        ],\n",
              "         [0.07058824, 0.03137255, 0.        ],\n",
              "         ...,\n",
              "         [0.48235294, 0.34509805, 0.21568628],\n",
              "         [0.46666667, 0.3254902 , 0.19607843],\n",
              "         [0.47843137, 0.34117648, 0.22352941]],\n",
              "\n",
              "        [[0.09803922, 0.09411765, 0.08235294],\n",
              "         [0.0627451 , 0.02745098, 0.        ],\n",
              "         [0.19215687, 0.10588235, 0.03137255],\n",
              "         ...,\n",
              "         [0.4627451 , 0.32941177, 0.19607843],\n",
              "         [0.47058824, 0.32941177, 0.19607843],\n",
              "         [0.42745098, 0.28627452, 0.16470589]],\n",
              "\n",
              "        ...,\n",
              "\n",
              "        [[0.8156863 , 0.6666667 , 0.3764706 ],\n",
              "         [0.7882353 , 0.6       , 0.13333334],\n",
              "         [0.7764706 , 0.6313726 , 0.10196079],\n",
              "         ...,\n",
              "         [0.627451  , 0.52156866, 0.27450982],\n",
              "         [0.21960784, 0.12156863, 0.02745098],\n",
              "         [0.20784314, 0.13333334, 0.07843138]],\n",
              "\n",
              "        [[0.7058824 , 0.54509807, 0.3764706 ],\n",
              "         [0.6784314 , 0.48235294, 0.16470589],\n",
              "         [0.7294118 , 0.5647059 , 0.11764706],\n",
              "         ...,\n",
              "         [0.72156864, 0.5803922 , 0.36862746],\n",
              "         [0.38039216, 0.24313726, 0.13333334],\n",
              "         [0.3254902 , 0.20784314, 0.13333334]],\n",
              "\n",
              "        [[0.69411767, 0.5647059 , 0.45490196],\n",
              "         [0.65882355, 0.5058824 , 0.36862746],\n",
              "         [0.7019608 , 0.5568628 , 0.34117648],\n",
              "         ...,\n",
              "         [0.84705883, 0.72156864, 0.54901963],\n",
              "         [0.5921569 , 0.4627451 , 0.32941177],\n",
              "         [0.48235294, 0.36078432, 0.28235295]]],\n",
              "\n",
              "\n",
              "       [[[0.6039216 , 0.69411767, 0.73333335],\n",
              "         [0.49411765, 0.5372549 , 0.53333336],\n",
              "         [0.4117647 , 0.40784314, 0.37254903],\n",
              "         ...,\n",
              "         [0.35686275, 0.37254903, 0.2784314 ],\n",
              "         [0.34117648, 0.3529412 , 0.2784314 ],\n",
              "         [0.30980393, 0.31764707, 0.27450982]],\n",
              "\n",
              "        [[0.54901963, 0.627451  , 0.6627451 ],\n",
              "         [0.5686275 , 0.6       , 0.6039216 ],\n",
              "         [0.49019608, 0.49019608, 0.4627451 ],\n",
              "         ...,\n",
              "         [0.3764706 , 0.3882353 , 0.30588236],\n",
              "         [0.3019608 , 0.3137255 , 0.24313726],\n",
              "         [0.2784314 , 0.28627452, 0.23921569]],\n",
              "\n",
              "        [[0.54901963, 0.60784316, 0.6431373 ],\n",
              "         [0.54509807, 0.57254905, 0.58431375],\n",
              "         [0.4509804 , 0.4509804 , 0.4392157 ],\n",
              "         ...,\n",
              "         [0.30980393, 0.32156864, 0.2509804 ],\n",
              "         [0.26666668, 0.27450982, 0.21568628],\n",
              "         [0.2627451 , 0.27058825, 0.21568628]],\n",
              "\n",
              "        ...,\n",
              "\n",
              "        [[0.6862745 , 0.654902  , 0.6509804 ],\n",
              "         [0.6117647 , 0.6039216 , 0.627451  ],\n",
              "         [0.6039216 , 0.627451  , 0.6666667 ],\n",
              "         ...,\n",
              "         [0.16470589, 0.13333334, 0.14117648],\n",
              "         [0.23921569, 0.20784314, 0.22352941],\n",
              "         [0.3647059 , 0.3254902 , 0.35686275]],\n",
              "\n",
              "        [[0.64705884, 0.6039216 , 0.5019608 ],\n",
              "         [0.6117647 , 0.59607846, 0.50980395],\n",
              "         [0.62352943, 0.6313726 , 0.5568628 ],\n",
              "         ...,\n",
              "         [0.40392157, 0.3647059 , 0.3764706 ],\n",
              "         [0.48235294, 0.44705883, 0.47058824],\n",
              "         [0.5137255 , 0.4745098 , 0.5137255 ]],\n",
              "\n",
              "        [[0.6392157 , 0.5803922 , 0.47058824],\n",
              "         [0.61960787, 0.5803922 , 0.47843137],\n",
              "         [0.6392157 , 0.6117647 , 0.52156866],\n",
              "         ...,\n",
              "         [0.56078434, 0.52156866, 0.54509807],\n",
              "         [0.56078434, 0.5254902 , 0.5568628 ],\n",
              "         [0.56078434, 0.52156866, 0.5647059 ]]],\n",
              "\n",
              "\n",
              "       [[[1.        , 1.        , 1.        ],\n",
              "         [0.99215686, 0.99215686, 0.99215686],\n",
              "         [0.99215686, 0.99215686, 0.99215686],\n",
              "         ...,\n",
              "         [0.99215686, 0.99215686, 0.99215686],\n",
              "         [0.99215686, 0.99215686, 0.99215686],\n",
              "         [0.99215686, 0.99215686, 0.99215686]],\n",
              "\n",
              "        [[1.        , 1.        , 1.        ],\n",
              "         [1.        , 1.        , 1.        ],\n",
              "         [1.        , 1.        , 1.        ],\n",
              "         ...,\n",
              "         [1.        , 1.        , 1.        ],\n",
              "         [1.        , 1.        , 1.        ],\n",
              "         [1.        , 1.        , 1.        ]],\n",
              "\n",
              "        [[1.        , 1.        , 1.        ],\n",
              "         [0.99607843, 0.99607843, 0.99607843],\n",
              "         [0.99607843, 0.99607843, 0.99607843],\n",
              "         ...,\n",
              "         [0.99607843, 0.99607843, 0.99607843],\n",
              "         [0.99607843, 0.99607843, 0.99607843],\n",
              "         [0.99607843, 0.99607843, 0.99607843]],\n",
              "\n",
              "        ...,\n",
              "\n",
              "        [[0.44313726, 0.47058824, 0.4392157 ],\n",
              "         [0.43529412, 0.4627451 , 0.43529412],\n",
              "         [0.4117647 , 0.4392157 , 0.41568628],\n",
              "         ...,\n",
              "         [0.28235295, 0.31764707, 0.3137255 ],\n",
              "         [0.28235295, 0.3137255 , 0.30980393],\n",
              "         [0.28235295, 0.3137255 , 0.30980393]],\n",
              "\n",
              "        [[0.43529412, 0.4627451 , 0.43137255],\n",
              "         [0.40784314, 0.43529412, 0.40784314],\n",
              "         [0.3882353 , 0.41568628, 0.38431373],\n",
              "         ...,\n",
              "         [0.26666668, 0.29411766, 0.28627452],\n",
              "         [0.27450982, 0.29803923, 0.29411766],\n",
              "         [0.30588236, 0.32941177, 0.32156864]],\n",
              "\n",
              "        [[0.41568628, 0.44313726, 0.4117647 ],\n",
              "         [0.3882353 , 0.41568628, 0.38431373],\n",
              "         [0.37254903, 0.4       , 0.36862746],\n",
              "         ...,\n",
              "         [0.30588236, 0.33333334, 0.3254902 ],\n",
              "         [0.30980393, 0.33333334, 0.3254902 ],\n",
              "         [0.3137255 , 0.3372549 , 0.32941177]]],\n",
              "\n",
              "\n",
              "       ...,\n",
              "\n",
              "\n",
              "       [[[0.13725491, 0.69803923, 0.92156863],\n",
              "         [0.15686275, 0.6901961 , 0.9372549 ],\n",
              "         [0.16470589, 0.6901961 , 0.94509804],\n",
              "         ...,\n",
              "         [0.3882353 , 0.69411767, 0.85882354],\n",
              "         [0.30980393, 0.5764706 , 0.77254903],\n",
              "         [0.34901962, 0.5803922 , 0.7411765 ]],\n",
              "\n",
              "        [[0.22352941, 0.7137255 , 0.91764706],\n",
              "         [0.17254902, 0.72156864, 0.98039216],\n",
              "         [0.19607843, 0.7176471 , 0.9411765 ],\n",
              "         ...,\n",
              "         [0.6117647 , 0.7137255 , 0.78431374],\n",
              "         [0.5529412 , 0.69411767, 0.80784315],\n",
              "         [0.45490196, 0.58431375, 0.6862745 ]],\n",
              "\n",
              "        [[0.38431373, 0.77254903, 0.92941177],\n",
              "         [0.2509804 , 0.7411765 , 0.9882353 ],\n",
              "         [0.27058825, 0.7529412 , 0.9607843 ],\n",
              "         ...,\n",
              "         [0.7372549 , 0.7647059 , 0.80784315],\n",
              "         [0.46666667, 0.5294118 , 0.5764706 ],\n",
              "         [0.23921569, 0.30980393, 0.3529412 ]],\n",
              "\n",
              "        ...,\n",
              "\n",
              "        [[0.28627452, 0.30980393, 0.3019608 ],\n",
              "         [0.20784314, 0.24705882, 0.26666668],\n",
              "         [0.21176471, 0.26666668, 0.3137255 ],\n",
              "         ...,\n",
              "         [0.06666667, 0.15686275, 0.2509804 ],\n",
              "         [0.08235294, 0.14117648, 0.2       ],\n",
              "         [0.12941177, 0.1882353 , 0.19215687]],\n",
              "\n",
              "        [[0.23921569, 0.26666668, 0.29411766],\n",
              "         [0.21568628, 0.27450982, 0.3372549 ],\n",
              "         [0.22352941, 0.30980393, 0.40392157],\n",
              "         ...,\n",
              "         [0.09411765, 0.1882353 , 0.28235295],\n",
              "         [0.06666667, 0.13725491, 0.20784314],\n",
              "         [0.02745098, 0.09019608, 0.1254902 ]],\n",
              "\n",
              "        [[0.17254902, 0.21960784, 0.28627452],\n",
              "         [0.18039216, 0.25882354, 0.34509805],\n",
              "         [0.19215687, 0.3019608 , 0.4117647 ],\n",
              "         ...,\n",
              "         [0.10588235, 0.20392157, 0.3019608 ],\n",
              "         [0.08235294, 0.16862746, 0.25882354],\n",
              "         [0.04705882, 0.12156863, 0.19607843]]],\n",
              "\n",
              "\n",
              "       [[[0.7411765 , 0.827451  , 0.9411765 ],\n",
              "         [0.7294118 , 0.8156863 , 0.9254902 ],\n",
              "         [0.7254902 , 0.8117647 , 0.92156863],\n",
              "         ...,\n",
              "         [0.6862745 , 0.7647059 , 0.8784314 ],\n",
              "         [0.6745098 , 0.7607843 , 0.87058824],\n",
              "         [0.6627451 , 0.7607843 , 0.8627451 ]],\n",
              "\n",
              "        [[0.7607843 , 0.8235294 , 0.9372549 ],\n",
              "         [0.7490196 , 0.8117647 , 0.9254902 ],\n",
              "         [0.74509805, 0.80784315, 0.92156863],\n",
              "         ...,\n",
              "         [0.6784314 , 0.7529412 , 0.8627451 ],\n",
              "         [0.67058825, 0.7490196 , 0.85490197],\n",
              "         [0.654902  , 0.74509805, 0.84705883]],\n",
              "\n",
              "        [[0.8156863 , 0.85882354, 0.95686275],\n",
              "         [0.8039216 , 0.84705883, 0.9411765 ],\n",
              "         [0.8       , 0.84313726, 0.9372549 ],\n",
              "         ...,\n",
              "         [0.6862745 , 0.7490196 , 0.8509804 ],\n",
              "         [0.6745098 , 0.74509805, 0.84705883],\n",
              "         [0.6627451 , 0.7490196 , 0.84313726]],\n",
              "\n",
              "        ...,\n",
              "\n",
              "        [[0.8117647 , 0.78039217, 0.70980394],\n",
              "         [0.79607844, 0.7647059 , 0.6862745 ],\n",
              "         [0.79607844, 0.76862746, 0.6784314 ],\n",
              "         ...,\n",
              "         [0.5294118 , 0.5176471 , 0.49803922],\n",
              "         [0.63529414, 0.61960787, 0.5882353 ],\n",
              "         [0.65882355, 0.6392157 , 0.5921569 ]],\n",
              "\n",
              "        [[0.7764706 , 0.74509805, 0.6666667 ],\n",
              "         [0.7411765 , 0.70980394, 0.62352943],\n",
              "         [0.7058824 , 0.6745098 , 0.5764706 ],\n",
              "         ...,\n",
              "         [0.69803923, 0.67058825, 0.627451  ],\n",
              "         [0.6862745 , 0.6627451 , 0.6117647 ],\n",
              "         [0.6862745 , 0.6627451 , 0.6039216 ]],\n",
              "\n",
              "        [[0.7764706 , 0.7411765 , 0.6784314 ],\n",
              "         [0.7411765 , 0.70980394, 0.63529414],\n",
              "         [0.69803923, 0.6666667 , 0.58431375],\n",
              "         ...,\n",
              "         [0.7647059 , 0.72156864, 0.6627451 ],\n",
              "         [0.76862746, 0.7411765 , 0.67058825],\n",
              "         [0.7647059 , 0.74509805, 0.67058825]]],\n",
              "\n",
              "\n",
              "       [[[0.8980392 , 0.8980392 , 0.9372549 ],\n",
              "         [0.9254902 , 0.92941177, 0.96862745],\n",
              "         [0.91764706, 0.9254902 , 0.96862745],\n",
              "         ...,\n",
              "         [0.8509804 , 0.85882354, 0.9137255 ],\n",
              "         [0.8666667 , 0.8745098 , 0.91764706],\n",
              "         [0.87058824, 0.8745098 , 0.9137255 ]],\n",
              "\n",
              "        [[0.87058824, 0.8666667 , 0.8980392 ],\n",
              "         [0.9372549 , 0.9372549 , 0.9764706 ],\n",
              "         [0.9137255 , 0.91764706, 0.9647059 ],\n",
              "         ...,\n",
              "         [0.8745098 , 0.8745098 , 0.9254902 ],\n",
              "         [0.8901961 , 0.89411765, 0.93333334],\n",
              "         [0.8235294 , 0.827451  , 0.8627451 ]],\n",
              "\n",
              "        [[0.8352941 , 0.80784315, 0.827451  ],\n",
              "         [0.91764706, 0.9098039 , 0.9372549 ],\n",
              "         [0.90588236, 0.9137255 , 0.95686275],\n",
              "         ...,\n",
              "         [0.8627451 , 0.8627451 , 0.9098039 ],\n",
              "         [0.8627451 , 0.85882354, 0.9098039 ],\n",
              "         [0.7921569 , 0.79607844, 0.84313726]],\n",
              "\n",
              "        ...,\n",
              "\n",
              "        [[0.5882353 , 0.56078434, 0.5294118 ],\n",
              "         [0.54901963, 0.5294118 , 0.49803922],\n",
              "         [0.5176471 , 0.49803922, 0.47058824],\n",
              "         ...,\n",
              "         [0.8784314 , 0.87058824, 0.85490197],\n",
              "         [0.9019608 , 0.89411765, 0.88235295],\n",
              "         [0.94509804, 0.94509804, 0.93333334]],\n",
              "\n",
              "        [[0.5372549 , 0.5176471 , 0.49411765],\n",
              "         [0.50980395, 0.49803922, 0.47058824],\n",
              "         [0.49019608, 0.4745098 , 0.4509804 ],\n",
              "         ...,\n",
              "         [0.70980394, 0.7058824 , 0.69803923],\n",
              "         [0.7921569 , 0.7882353 , 0.7764706 ],\n",
              "         [0.83137256, 0.827451  , 0.8117647 ]],\n",
              "\n",
              "        [[0.47843137, 0.46666667, 0.44705883],\n",
              "         [0.4627451 , 0.45490196, 0.43137255],\n",
              "         [0.47058824, 0.45490196, 0.43529412],\n",
              "         ...,\n",
              "         [0.7019608 , 0.69411767, 0.6784314 ],\n",
              "         [0.6431373 , 0.6431373 , 0.63529414],\n",
              "         [0.6392157 , 0.6392157 , 0.6313726 ]]]], dtype=float32)"
            ]
          },
          "metadata": {
            "tags": []
          },
          "execution_count": 22
        }
      ]
    },
    {
      "cell_type": "code",
      "metadata": {
        "id": "3FopsyD30yJx",
        "colab_type": "code",
        "outputId": "a5bf10c0-75d9-4854-b17d-bd51e5531d4f",
        "colab": {
          "base_uri": "https://localhost:8080/",
          "height": 35
        }
      },
      "source": [
        "X_train.shape"
      ],
      "execution_count": 23,
      "outputs": [
        {
          "output_type": "execute_result",
          "data": {
            "text/plain": [
              "(50000, 32, 32, 3)"
            ]
          },
          "metadata": {
            "tags": []
          },
          "execution_count": 23
        }
      ]
    },
    {
      "cell_type": "code",
      "metadata": {
        "id": "dB0qeV_M0yHk",
        "colab_type": "code",
        "colab": {}
      },
      "source": [
        "Input_shape = X_train.shape[1:]"
      ],
      "execution_count": 0,
      "outputs": []
    },
    {
      "cell_type": "code",
      "metadata": {
        "id": "_nLDOa2z0yBT",
        "colab_type": "code",
        "outputId": "a806b909-f6d9-4b67-c296-4039628814b1",
        "colab": {
          "base_uri": "https://localhost:8080/",
          "height": 35
        }
      },
      "source": [
        "Input_shape"
      ],
      "execution_count": 25,
      "outputs": [
        {
          "output_type": "execute_result",
          "data": {
            "text/plain": [
              "(32, 32, 3)"
            ]
          },
          "metadata": {
            "tags": []
          },
          "execution_count": 25
        }
      ]
    },
    {
      "cell_type": "code",
      "metadata": {
        "id": "Z25t-ZZl5LAZ",
        "colab_type": "code",
        "outputId": "df4167bd-c783-4382-fb7a-88660444ac8b",
        "colab": {
          "base_uri": "https://localhost:8080/",
          "height": 35
        }
      },
      "source": [
        "y_train.shape"
      ],
      "execution_count": 26,
      "outputs": [
        {
          "output_type": "execute_result",
          "data": {
            "text/plain": [
              "(50000, 10)"
            ]
          },
          "metadata": {
            "tags": []
          },
          "execution_count": 26
        }
      ]
    },
    {
      "cell_type": "markdown",
      "metadata": {
        "id": "bzWmHtWs1AZG",
        "colab_type": "text"
      },
      "source": [
        "# STEP #5: TRAIN THE MODEL"
      ]
    },
    {
      "cell_type": "code",
      "metadata": {
        "id": "9djrE5rK3T0f",
        "colab_type": "code",
        "outputId": "a8451e94-d8d2-4a29-dab1-1b2b8001909b",
        "colab": {
          "base_uri": "https://localhost:8080/",
          "height": 636
        }
      },
      "source": [
        "\n",
        "cnn = tf.keras.Sequential()\n",
        "\n",
        "cnn.add(tf.keras.layers.Conv2D(32, (3,3), activation = 'relu', input_shape = (32,32,3)))\n",
        "cnn.add(tf.keras.layers.Conv2D(32, (3,3), activation = 'relu'))\n",
        "cnn.add(tf.keras.layers.MaxPooling2D(2,2))\n",
        "cnn.add(tf.keras.layers.Dropout(0.3))\n",
        "\n",
        "\n",
        "cnn.add(tf.keras.layers.Conv2D(64, (3,3), activation = 'relu'))\n",
        "cnn.add(tf.keras.layers.Conv2D(64, (3,3), activation = 'relu'))\n",
        "cnn.add(tf.keras.layers.MaxPooling2D(2,2))\n",
        "cnn.add(tf.keras.layers.Dropout(0.3))\n",
        "\n",
        "cnn.add(tf.keras.layers.Flatten())\n",
        "\n",
        "cnn.add(tf.keras.layers.Dense(1024, activation = 'relu'))\n",
        "cnn.add(tf.keras.layers.Dropout(0.3))\n",
        "\n",
        "cnn.add(tf.keras.layers.Dense(1024, activation = 'relu'))\n",
        "\n",
        "cnn.add(tf.keras.layers.Dense(10, activation = 'softmax'))\n",
        "cnn.summary()"
      ],
      "execution_count": 27,
      "outputs": [
        {
          "output_type": "stream",
          "text": [
            "Model: \"sequential\"\n",
            "_________________________________________________________________\n",
            "Layer (type)                 Output Shape              Param #   \n",
            "=================================================================\n",
            "conv2d (Conv2D)              (None, 30, 30, 32)        896       \n",
            "_________________________________________________________________\n",
            "conv2d_1 (Conv2D)            (None, 28, 28, 32)        9248      \n",
            "_________________________________________________________________\n",
            "max_pooling2d (MaxPooling2D) (None, 14, 14, 32)        0         \n",
            "_________________________________________________________________\n",
            "dropout (Dropout)            (None, 14, 14, 32)        0         \n",
            "_________________________________________________________________\n",
            "conv2d_2 (Conv2D)            (None, 12, 12, 64)        18496     \n",
            "_________________________________________________________________\n",
            "conv2d_3 (Conv2D)            (None, 10, 10, 64)        36928     \n",
            "_________________________________________________________________\n",
            "max_pooling2d_1 (MaxPooling2 (None, 5, 5, 64)          0         \n",
            "_________________________________________________________________\n",
            "dropout_1 (Dropout)          (None, 5, 5, 64)          0         \n",
            "_________________________________________________________________\n",
            "flatten (Flatten)            (None, 1600)              0         \n",
            "_________________________________________________________________\n",
            "dense (Dense)                (None, 1024)              1639424   \n",
            "_________________________________________________________________\n",
            "dropout_2 (Dropout)          (None, 1024)              0         \n",
            "_________________________________________________________________\n",
            "dense_1 (Dense)              (None, 1024)              1049600   \n",
            "_________________________________________________________________\n",
            "dense_2 (Dense)              (None, 10)                10250     \n",
            "=================================================================\n",
            "Total params: 2,764,842\n",
            "Trainable params: 2,764,842\n",
            "Non-trainable params: 0\n",
            "_________________________________________________________________\n"
          ],
          "name": "stdout"
        }
      ]
    },
    {
      "cell_type": "code",
      "metadata": {
        "id": "Rxo0ZFKO0_Ip",
        "colab_type": "code",
        "colab": {}
      },
      "source": [
        "cnn.compile(optimizer = tf.keras.optimizers.RMSprop(0.0001, decay = 1e-6), loss ='categorical_crossentropy', metrics =['accuracy'])\n",
        "\n"
      ],
      "execution_count": 0,
      "outputs": []
    },
    {
      "cell_type": "code",
      "metadata": {
        "id": "1i0DJrhY0_Di",
        "colab_type": "code",
        "outputId": "6f1d9838-c8c8-46da-a272-aadf0ab35b99",
        "colab": {
          "base_uri": "https://localhost:8080/",
          "height": 599
        }
      },
      "source": [
        "epochs = 100\n",
        "\n",
        "history = cnn.fit(X_train, y_train, batch_size = 512, epochs = epochs)\n",
        "\n"
      ],
      "execution_count": 0,
      "outputs": [
        {
          "output_type": "stream",
          "text": [
            "Epoch 1/100\n",
            "50000/50000 [==============================] - 7s 133us/sample - loss: 2.0604 - accuracy: 0.2408\n",
            "Epoch 2/100\n",
            "50000/50000 [==============================] - 3s 51us/sample - loss: 1.8382 - accuracy: 0.3333\n",
            "Epoch 3/100\n",
            "50000/50000 [==============================] - 3s 52us/sample - loss: 1.7450 - accuracy: 0.3672\n",
            "Epoch 4/100\n",
            "50000/50000 [==============================] - 3s 53us/sample - loss: 1.6791 - accuracy: 0.3917\n",
            "Epoch 5/100\n",
            "50000/50000 [==============================] - 3s 51us/sample - loss: 1.6219 - accuracy: 0.4111\n",
            "Epoch 6/100\n",
            "50000/50000 [==============================] - 3s 51us/sample - loss: 1.5648 - accuracy: 0.4313\n",
            "Epoch 7/100\n",
            "50000/50000 [==============================] - 3s 51us/sample - loss: 1.5230 - accuracy: 0.4497\n",
            "Epoch 8/100\n",
            "50000/50000 [==============================] - 3s 52us/sample - loss: 1.4837 - accuracy: 0.4652\n",
            "Epoch 9/100\n",
            "50000/50000 [==============================] - 3s 51us/sample - loss: 1.4505 - accuracy: 0.4758\n",
            "Epoch 10/100\n",
            "50000/50000 [==============================] - 3s 51us/sample - loss: 1.4197 - accuracy: 0.4885\n",
            "Epoch 11/100\n",
            "50000/50000 [==============================] - 3s 52us/sample - loss: 1.3934 - accuracy: 0.4974\n",
            "Epoch 12/100\n",
            "50000/50000 [==============================] - 3s 51us/sample - loss: 1.3691 - accuracy: 0.5070\n",
            "Epoch 13/100\n",
            "50000/50000 [==============================] - 3s 50us/sample - loss: 1.3492 - accuracy: 0.5152\n",
            "Epoch 14/100\n",
            "50000/50000 [==============================] - 3s 53us/sample - loss: 1.3263 - accuracy: 0.5266\n",
            "Epoch 15/100\n",
            "50000/50000 [==============================] - 3s 51us/sample - loss: 1.3051 - accuracy: 0.5312\n",
            "Epoch 16/100\n",
            "29696/50000 [================>.............] - ETA: 1s - loss: 1.2841 - accuracy: 0.5422"
          ],
          "name": "stdout"
        }
      ]
    },
    {
      "cell_type": "markdown",
      "metadata": {
        "id": "4TdBklM52MoF",
        "colab_type": "text"
      },
      "source": [
        "# STEP #6: EVALUATE THE MODEL"
      ]
    },
    {
      "cell_type": "code",
      "metadata": {
        "id": "nZgOolbz2Os2",
        "colab_type": "code",
        "colab": {}
      },
      "source": [
        "evaluation = cnn.evaluate(X_test, y_test)\n",
        "print('Test Accuracy: {}'.format(evaluation[1]))"
      ],
      "execution_count": 0,
      "outputs": []
    },
    {
      "cell_type": "code",
      "metadata": {
        "id": "xmMSKwiv2Oqe",
        "colab_type": "code",
        "colab": {}
      },
      "source": [
        "predicted_classes = cnn.predict_classes(X_test) \n",
        "predicted_classes"
      ],
      "execution_count": 0,
      "outputs": []
    },
    {
      "cell_type": "code",
      "metadata": {
        "id": "4VT8nWsZ2OoG",
        "colab_type": "code",
        "colab": {}
      },
      "source": [
        "y_test"
      ],
      "execution_count": 0,
      "outputs": []
    },
    {
      "cell_type": "code",
      "metadata": {
        "id": "acHnD3nz2Olm",
        "colab_type": "code",
        "colab": {}
      },
      "source": [
        "y_test = y_test.argmax(1)"
      ],
      "execution_count": 0,
      "outputs": []
    },
    {
      "cell_type": "code",
      "metadata": {
        "id": "Qgc4cFQx2SjH",
        "colab_type": "code",
        "colab": {}
      },
      "source": [
        "y_test"
      ],
      "execution_count": 0,
      "outputs": []
    },
    {
      "cell_type": "code",
      "metadata": {
        "id": "kOEtfm1c2ShN",
        "colab_type": "code",
        "colab": {}
      },
      "source": [
        "L = 7\n",
        "W = 7\n",
        "fig, axes = plt.subplots(L, W, figsize = (12, 12))\n",
        "axes = axes.ravel()\n",
        "\n",
        "for i in np.arange(0, L*W):\n",
        "    axes[i].imshow(X_test[i])\n",
        "    axes[i].set_title('Prediction = {}\\n True = {}'.format(predicted_classes[i], y_test[i]))\n",
        "    axes[i].axis('off')\n",
        "\n",
        "plt.subplots_adjust(wspace = 1)    "
      ],
      "execution_count": 0,
      "outputs": []
    },
    {
      "cell_type": "code",
      "metadata": {
        "id": "pgVaflOH2SfF",
        "colab_type": "code",
        "colab": {}
      },
      "source": [
        "from sklearn.metrics import confusion_matrix\n",
        "import seaborn as sns\n",
        "\n",
        "cm = confusion_matrix(predicted_classes, y_test)\n",
        "cm\n",
        "plt.figure(figsize = (10, 10))\n",
        "sns.heatmap(cm, annot = True)"
      ],
      "execution_count": 0,
      "outputs": []
    },
    {
      "cell_type": "markdown",
      "metadata": {
        "id": "J7pUBTXMw75-",
        "colab_type": "text"
      },
      "source": [
        "# GREAT JOB!"
      ]
    }
  ]
}