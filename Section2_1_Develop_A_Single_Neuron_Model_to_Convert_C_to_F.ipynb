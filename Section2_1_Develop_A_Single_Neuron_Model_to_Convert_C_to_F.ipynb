{
  "nbformat": 4,
  "nbformat_minor": 0,
  "metadata": {
    "colab": {
      "name": "1. Develop A Single Neuron Model to Convert C to F.ipynb",
      "provenance": [],
      "collapsed_sections": [],
      "toc_visible": true,
      "include_colab_link": true
    },
    "kernelspec": {
      "name": "python3",
      "display_name": "Python 3"
    },
    "accelerator": "GPU"
  },
  "cells": [
    {
      "cell_type": "markdown",
      "metadata": {
        "id": "view-in-github",
        "colab_type": "text"
      },
      "source": [
        "<a href=\"https://colab.research.google.com/github/draculess99/TensorFlow2_Practical/blob/master/Section2_1_Develop_A_Single_Neuron_Model_to_Convert_C_to_F.ipynb\" target=\"_parent\"><img src=\"https://colab.research.google.com/assets/colab-badge.svg\" alt=\"Open In Colab\"/></a>"
      ]
    },
    {
      "cell_type": "markdown",
      "metadata": {
        "id": "M27qF7CTrBqc",
        "colab_type": "text"
      },
      "source": [
        "# PROBLEM STATEMENT"
      ]
    },
    {
      "cell_type": "markdown",
      "metadata": {
        "id": "iCj2rwwHBB1I",
        "colab_type": "text"
      },
      "source": [
        "\n",
        "- In this project, we will build a simple machine learning model to convert from celsius to fahrenheit. \n",
        "- The equation is as follows: **T(°F) = T(°C) × 9/5 + 32**\n",
        "- For Example, let's convert 0°C celsius temperature to Fahrenheit:  **(0°C × 9/5) + 32 = 32°F**\n"
      ]
    },
    {
      "cell_type": "markdown",
      "metadata": {
        "id": "Z2ZMlH-gtOxf",
        "colab_type": "text"
      },
      "source": [
        "\n",
        "<table>\n",
        "  <tr><td>\n",
        "    <img src=\"https://upload.wikimedia.org/wikipedia/commons/7/70/Thermometer_CF.svg\"\n",
        "         alt=\"Fashion MNIST sprite\"  width=\"600\">\n",
        "  </td></tr>\n",
        "  <tr><td align=\"center\">\n",
        "    <b>Figure 1. Convert Celsius to Fahrenheit [Image Source: https://commons.wikimedia.org/wiki/File:Thermometer_CF.svg]\n",
        "  </td></tr>\n",
        "</table>\n"
      ]
    },
    {
      "cell_type": "markdown",
      "metadata": {
        "id": "zKmFmyaGunc7",
        "colab_type": "text"
      },
      "source": [
        "# STEP #0: IMPORT LIBRARIES"
      ]
    },
    {
      "cell_type": "code",
      "metadata": {
        "id": "S0Cx3743urFY",
        "colab_type": "code",
        "outputId": "bc804d85-1a8b-4990-a0f6-298040f72bf9",
        "colab": {
          "base_uri": "https://localhost:8080/",
          "height": 980
        }
      },
      "source": [
        "!pip install tensorflow-gpu==2.0.0.alpha0\n",
        "import tensorflow as tf\n",
        "import pandas as pd\n",
        "import numpy as np\n",
        "import seaborn as sns\n",
        "import matplotlib.pyplot as plt"
      ],
      "execution_count": 1,
      "outputs": [
        {
          "output_type": "stream",
          "text": [
            "Collecting tensorflow-gpu==2.0.0.alpha0\n",
            "\u001b[?25l  Downloading https://files.pythonhosted.org/packages/1a/66/32cffad095253219d53f6b6c2a436637bbe45ac4e7be0244557210dc3918/tensorflow_gpu-2.0.0a0-cp36-cp36m-manylinux1_x86_64.whl (332.1MB)\n",
            "\u001b[K     |████████████████████████████████| 332.1MB 48kB/s \n",
            "\u001b[?25hRequirement already satisfied: grpcio>=1.8.6 in /usr/local/lib/python3.6/dist-packages (from tensorflow-gpu==2.0.0.alpha0) (1.27.1)\n",
            "Requirement already satisfied: six>=1.10.0 in /usr/local/lib/python3.6/dist-packages (from tensorflow-gpu==2.0.0.alpha0) (1.12.0)\n",
            "Requirement already satisfied: wheel>=0.26 in /usr/local/lib/python3.6/dist-packages (from tensorflow-gpu==2.0.0.alpha0) (0.34.2)\n",
            "Requirement already satisfied: keras-applications>=1.0.6 in /usr/local/lib/python3.6/dist-packages (from tensorflow-gpu==2.0.0.alpha0) (1.0.8)\n",
            "Collecting tb-nightly<1.14.0a20190302,>=1.14.0a20190301\n",
            "\u001b[?25l  Downloading https://files.pythonhosted.org/packages/a9/51/aa1d756644bf4624c03844115e4ac4058eff77acd786b26315f051a4b195/tb_nightly-1.14.0a20190301-py3-none-any.whl (3.0MB)\n",
            "\u001b[K     |████████████████████████████████| 3.0MB 49.0MB/s \n",
            "\u001b[?25hRequirement already satisfied: gast>=0.2.0 in /usr/local/lib/python3.6/dist-packages (from tensorflow-gpu==2.0.0.alpha0) (0.2.2)\n",
            "Requirement already satisfied: protobuf>=3.6.1 in /usr/local/lib/python3.6/dist-packages (from tensorflow-gpu==2.0.0.alpha0) (3.10.0)\n",
            "Requirement already satisfied: astor>=0.6.0 in /usr/local/lib/python3.6/dist-packages (from tensorflow-gpu==2.0.0.alpha0) (0.8.1)\n",
            "Requirement already satisfied: google-pasta>=0.1.2 in /usr/local/lib/python3.6/dist-packages (from tensorflow-gpu==2.0.0.alpha0) (0.1.8)\n",
            "Requirement already satisfied: keras-preprocessing>=1.0.5 in /usr/local/lib/python3.6/dist-packages (from tensorflow-gpu==2.0.0.alpha0) (1.1.0)\n",
            "Requirement already satisfied: absl-py>=0.7.0 in /usr/local/lib/python3.6/dist-packages (from tensorflow-gpu==2.0.0.alpha0) (0.9.0)\n",
            "Collecting tf-estimator-nightly<1.14.0.dev2019030116,>=1.14.0.dev2019030115\n",
            "\u001b[?25l  Downloading https://files.pythonhosted.org/packages/13/82/f16063b4eed210dc2ab057930ac1da4fbe1e91b7b051a6c8370b401e6ae7/tf_estimator_nightly-1.14.0.dev2019030115-py2.py3-none-any.whl (411kB)\n",
            "\u001b[K     |████████████████████████████████| 419kB 75.3MB/s \n",
            "\u001b[?25hRequirement already satisfied: numpy<2.0,>=1.14.5 in /usr/local/lib/python3.6/dist-packages (from tensorflow-gpu==2.0.0.alpha0) (1.17.5)\n",
            "Requirement already satisfied: termcolor>=1.1.0 in /usr/local/lib/python3.6/dist-packages (from tensorflow-gpu==2.0.0.alpha0) (1.1.0)\n",
            "Requirement already satisfied: h5py in /usr/local/lib/python3.6/dist-packages (from keras-applications>=1.0.6->tensorflow-gpu==2.0.0.alpha0) (2.8.0)\n",
            "Requirement already satisfied: markdown>=2.6.8 in /usr/local/lib/python3.6/dist-packages (from tb-nightly<1.14.0a20190302,>=1.14.0a20190301->tensorflow-gpu==2.0.0.alpha0) (3.2.1)\n",
            "Requirement already satisfied: werkzeug>=0.11.15 in /usr/local/lib/python3.6/dist-packages (from tb-nightly<1.14.0a20190302,>=1.14.0a20190301->tensorflow-gpu==2.0.0.alpha0) (1.0.0)\n",
            "Requirement already satisfied: setuptools in /usr/local/lib/python3.6/dist-packages (from protobuf>=3.6.1->tensorflow-gpu==2.0.0.alpha0) (45.1.0)\n",
            "Installing collected packages: tb-nightly, tf-estimator-nightly, tensorflow-gpu\n",
            "Successfully installed tb-nightly-1.14.0a20190301 tensorflow-gpu-2.0.0a0 tf-estimator-nightly-1.14.0.dev2019030115\n"
          ],
          "name": "stdout"
        },
        {
          "output_type": "stream",
          "text": [
            "/usr/local/lib/python3.6/dist-packages/tensorflow/python/framework/dtypes.py:523: FutureWarning: Passing (type, 1) or '1type' as a synonym of type is deprecated; in a future version of numpy, it will be understood as (type, (1,)) / '(1,)type'.\n",
            "  _np_qint8 = np.dtype([(\"qint8\", np.int8, 1)])\n",
            "/usr/local/lib/python3.6/dist-packages/tensorflow/python/framework/dtypes.py:524: FutureWarning: Passing (type, 1) or '1type' as a synonym of type is deprecated; in a future version of numpy, it will be understood as (type, (1,)) / '(1,)type'.\n",
            "  _np_quint8 = np.dtype([(\"quint8\", np.uint8, 1)])\n",
            "/usr/local/lib/python3.6/dist-packages/tensorflow/python/framework/dtypes.py:525: FutureWarning: Passing (type, 1) or '1type' as a synonym of type is deprecated; in a future version of numpy, it will be understood as (type, (1,)) / '(1,)type'.\n",
            "  _np_qint16 = np.dtype([(\"qint16\", np.int16, 1)])\n",
            "/usr/local/lib/python3.6/dist-packages/tensorflow/python/framework/dtypes.py:526: FutureWarning: Passing (type, 1) or '1type' as a synonym of type is deprecated; in a future version of numpy, it will be understood as (type, (1,)) / '(1,)type'.\n",
            "  _np_quint16 = np.dtype([(\"quint16\", np.uint16, 1)])\n",
            "/usr/local/lib/python3.6/dist-packages/tensorflow/python/framework/dtypes.py:527: FutureWarning: Passing (type, 1) or '1type' as a synonym of type is deprecated; in a future version of numpy, it will be understood as (type, (1,)) / '(1,)type'.\n",
            "  _np_qint32 = np.dtype([(\"qint32\", np.int32, 1)])\n",
            "/usr/local/lib/python3.6/dist-packages/tensorflow/python/framework/dtypes.py:532: FutureWarning: Passing (type, 1) or '1type' as a synonym of type is deprecated; in a future version of numpy, it will be understood as (type, (1,)) / '(1,)type'.\n",
            "  np_resource = np.dtype([(\"resource\", np.ubyte, 1)])\n",
            "/usr/local/lib/python3.6/dist-packages/tensorboard/compat/tensorflow_stub/dtypes.py:541: FutureWarning: Passing (type, 1) or '1type' as a synonym of type is deprecated; in a future version of numpy, it will be understood as (type, (1,)) / '(1,)type'.\n",
            "  _np_qint8 = np.dtype([(\"qint8\", np.int8, 1)])\n",
            "/usr/local/lib/python3.6/dist-packages/tensorboard/compat/tensorflow_stub/dtypes.py:542: FutureWarning: Passing (type, 1) or '1type' as a synonym of type is deprecated; in a future version of numpy, it will be understood as (type, (1,)) / '(1,)type'.\n",
            "  _np_quint8 = np.dtype([(\"quint8\", np.uint8, 1)])\n",
            "/usr/local/lib/python3.6/dist-packages/tensorboard/compat/tensorflow_stub/dtypes.py:543: FutureWarning: Passing (type, 1) or '1type' as a synonym of type is deprecated; in a future version of numpy, it will be understood as (type, (1,)) / '(1,)type'.\n",
            "  _np_qint16 = np.dtype([(\"qint16\", np.int16, 1)])\n",
            "/usr/local/lib/python3.6/dist-packages/tensorboard/compat/tensorflow_stub/dtypes.py:544: FutureWarning: Passing (type, 1) or '1type' as a synonym of type is deprecated; in a future version of numpy, it will be understood as (type, (1,)) / '(1,)type'.\n",
            "  _np_quint16 = np.dtype([(\"quint16\", np.uint16, 1)])\n",
            "/usr/local/lib/python3.6/dist-packages/tensorboard/compat/tensorflow_stub/dtypes.py:545: FutureWarning: Passing (type, 1) or '1type' as a synonym of type is deprecated; in a future version of numpy, it will be understood as (type, (1,)) / '(1,)type'.\n",
            "  _np_qint32 = np.dtype([(\"qint32\", np.int32, 1)])\n",
            "/usr/local/lib/python3.6/dist-packages/tensorboard/compat/tensorflow_stub/dtypes.py:550: FutureWarning: Passing (type, 1) or '1type' as a synonym of type is deprecated; in a future version of numpy, it will be understood as (type, (1,)) / '(1,)type'.\n",
            "  np_resource = np.dtype([(\"resource\", np.ubyte, 1)])\n"
          ],
          "name": "stderr"
        }
      ]
    },
    {
      "cell_type": "markdown",
      "metadata": {
        "id": "uAE6Icc0uylP",
        "colab_type": "text"
      },
      "source": [
        "# STEP #1: IMPORT DATASETS"
      ]
    },
    {
      "cell_type": "code",
      "metadata": {
        "id": "5P_ciLXawMZg",
        "colab_type": "code",
        "colab": {
          "base_uri": "https://localhost:8080/",
          "height": 129
        },
        "outputId": "543647dc-b3e9-42ca-efcc-b98fd9b673fa"
      },
      "source": [
        "# You will need to mount your drive using the following commands:\n",
        "# For more information regarding mounting, please check this out: https://stackoverflow.com/questions/46986398/import-data-into-google-colaboratory\n",
        "\n",
        "from google.colab import drive\n",
        "drive.mount('/content/drive')"
      ],
      "execution_count": 2,
      "outputs": [
        {
          "output_type": "stream",
          "text": [
            "Go to this URL in a browser: https://accounts.google.com/o/oauth2/auth?client_id=947318989803-6bn6qk8qdgf4n4g3pfee6491hc0brc4i.apps.googleusercontent.com&redirect_uri=urn%3aietf%3awg%3aoauth%3a2.0%3aoob&response_type=code&scope=email%20https%3a%2f%2fwww.googleapis.com%2fauth%2fdocs.test%20https%3a%2f%2fwww.googleapis.com%2fauth%2fdrive%20https%3a%2f%2fwww.googleapis.com%2fauth%2fdrive.photos.readonly%20https%3a%2f%2fwww.googleapis.com%2fauth%2fpeopleapi.readonly\n",
            "\n",
            "Enter your authorization code:\n",
            "··········\n",
            "Mounted at /content/drive\n"
          ],
          "name": "stdout"
        }
      ]
    },
    {
      "cell_type": "code",
      "metadata": {
        "id": "fAsEQ5mBdpcf",
        "colab_type": "code",
        "outputId": "26e6e069-bca5-4af0-ab17-d5f45c06faed",
        "colab": {
          "base_uri": "https://localhost:8080/",
          "height": 35
        }
      },
      "source": [
        "from google.colab import drive\n",
        "drive.mount('/content/drive')"
      ],
      "execution_count": 5,
      "outputs": [
        {
          "output_type": "stream",
          "text": [
            "Drive already mounted at /content/drive; to attempt to forcibly remount, call drive.mount(\"/content/drive\", force_remount=True).\n"
          ],
          "name": "stdout"
        }
      ]
    },
    {
      "cell_type": "code",
      "metadata": {
        "id": "tjIiJdM4u1IE",
        "colab_type": "code",
        "colab": {}
      },
      "source": [
        "# You have to include the full link to the csv file containing your dataset\n",
        "Temperature_df = pd.read_csv('/content/sample_data/Celsius-to-Fahrenheit.csv')\n",
        "Temperature_df.reset_index(drop=True, inplace=True)\n",
        "\n"
      ],
      "execution_count": 0,
      "outputs": []
    },
    {
      "cell_type": "code",
      "metadata": {
        "id": "q4_wPDKCu5Uc",
        "colab_type": "code",
        "outputId": "ab3a96d9-3623-4934-e395-da933c100208",
        "colab": {
          "base_uri": "https://localhost:8080/",
          "height": 990
        }
      },
      "source": [
        "Temperature_df"
      ],
      "execution_count": 7,
      "outputs": [
        {
          "output_type": "execute_result",
          "data": {
            "text/html": [
              "<div>\n",
              "<style scoped>\n",
              "    .dataframe tbody tr th:only-of-type {\n",
              "        vertical-align: middle;\n",
              "    }\n",
              "\n",
              "    .dataframe tbody tr th {\n",
              "        vertical-align: top;\n",
              "    }\n",
              "\n",
              "    .dataframe thead th {\n",
              "        text-align: right;\n",
              "    }\n",
              "</style>\n",
              "<table border=\"1\" class=\"dataframe\">\n",
              "  <thead>\n",
              "    <tr style=\"text-align: right;\">\n",
              "      <th></th>\n",
              "      <th>Celsius</th>\n",
              "      <th>Fahrenheit</th>\n",
              "    </tr>\n",
              "  </thead>\n",
              "  <tbody>\n",
              "    <tr>\n",
              "      <th>0</th>\n",
              "      <td>-50</td>\n",
              "      <td>-58.0</td>\n",
              "    </tr>\n",
              "    <tr>\n",
              "      <th>1</th>\n",
              "      <td>-40</td>\n",
              "      <td>-40.0</td>\n",
              "    </tr>\n",
              "    <tr>\n",
              "      <th>2</th>\n",
              "      <td>-30</td>\n",
              "      <td>-22.0</td>\n",
              "    </tr>\n",
              "    <tr>\n",
              "      <th>3</th>\n",
              "      <td>-20</td>\n",
              "      <td>-4.0</td>\n",
              "    </tr>\n",
              "    <tr>\n",
              "      <th>4</th>\n",
              "      <td>-10</td>\n",
              "      <td>14.0</td>\n",
              "    </tr>\n",
              "    <tr>\n",
              "      <th>5</th>\n",
              "      <td>-9</td>\n",
              "      <td>15.8</td>\n",
              "    </tr>\n",
              "    <tr>\n",
              "      <th>6</th>\n",
              "      <td>-8</td>\n",
              "      <td>17.6</td>\n",
              "    </tr>\n",
              "    <tr>\n",
              "      <th>7</th>\n",
              "      <td>-7</td>\n",
              "      <td>19.4</td>\n",
              "    </tr>\n",
              "    <tr>\n",
              "      <th>8</th>\n",
              "      <td>-6</td>\n",
              "      <td>21.2</td>\n",
              "    </tr>\n",
              "    <tr>\n",
              "      <th>9</th>\n",
              "      <td>-5</td>\n",
              "      <td>23.0</td>\n",
              "    </tr>\n",
              "    <tr>\n",
              "      <th>10</th>\n",
              "      <td>-4</td>\n",
              "      <td>24.8</td>\n",
              "    </tr>\n",
              "    <tr>\n",
              "      <th>11</th>\n",
              "      <td>-3</td>\n",
              "      <td>26.6</td>\n",
              "    </tr>\n",
              "    <tr>\n",
              "      <th>12</th>\n",
              "      <td>-2</td>\n",
              "      <td>28.4</td>\n",
              "    </tr>\n",
              "    <tr>\n",
              "      <th>13</th>\n",
              "      <td>-1</td>\n",
              "      <td>30.2</td>\n",
              "    </tr>\n",
              "    <tr>\n",
              "      <th>14</th>\n",
              "      <td>0</td>\n",
              "      <td>32.0</td>\n",
              "    </tr>\n",
              "    <tr>\n",
              "      <th>15</th>\n",
              "      <td>1</td>\n",
              "      <td>33.8</td>\n",
              "    </tr>\n",
              "    <tr>\n",
              "      <th>16</th>\n",
              "      <td>2</td>\n",
              "      <td>35.6</td>\n",
              "    </tr>\n",
              "    <tr>\n",
              "      <th>17</th>\n",
              "      <td>3</td>\n",
              "      <td>37.4</td>\n",
              "    </tr>\n",
              "    <tr>\n",
              "      <th>18</th>\n",
              "      <td>4</td>\n",
              "      <td>39.2</td>\n",
              "    </tr>\n",
              "    <tr>\n",
              "      <th>19</th>\n",
              "      <td>5</td>\n",
              "      <td>41.0</td>\n",
              "    </tr>\n",
              "    <tr>\n",
              "      <th>20</th>\n",
              "      <td>6</td>\n",
              "      <td>42.8</td>\n",
              "    </tr>\n",
              "    <tr>\n",
              "      <th>21</th>\n",
              "      <td>7</td>\n",
              "      <td>44.6</td>\n",
              "    </tr>\n",
              "    <tr>\n",
              "      <th>22</th>\n",
              "      <td>8</td>\n",
              "      <td>46.4</td>\n",
              "    </tr>\n",
              "    <tr>\n",
              "      <th>23</th>\n",
              "      <td>9</td>\n",
              "      <td>48.2</td>\n",
              "    </tr>\n",
              "    <tr>\n",
              "      <th>24</th>\n",
              "      <td>10</td>\n",
              "      <td>50.0</td>\n",
              "    </tr>\n",
              "    <tr>\n",
              "      <th>25</th>\n",
              "      <td>20</td>\n",
              "      <td>68.0</td>\n",
              "    </tr>\n",
              "    <tr>\n",
              "      <th>26</th>\n",
              "      <td>30</td>\n",
              "      <td>86.0</td>\n",
              "    </tr>\n",
              "    <tr>\n",
              "      <th>27</th>\n",
              "      <td>40</td>\n",
              "      <td>104.0</td>\n",
              "    </tr>\n",
              "    <tr>\n",
              "      <th>28</th>\n",
              "      <td>50</td>\n",
              "      <td>122.0</td>\n",
              "    </tr>\n",
              "    <tr>\n",
              "      <th>29</th>\n",
              "      <td>60</td>\n",
              "      <td>140.0</td>\n",
              "    </tr>\n",
              "  </tbody>\n",
              "</table>\n",
              "</div>"
            ],
            "text/plain": [
              "    Celsius  Fahrenheit\n",
              "0       -50       -58.0\n",
              "1       -40       -40.0\n",
              "2       -30       -22.0\n",
              "3       -20        -4.0\n",
              "4       -10        14.0\n",
              "5        -9        15.8\n",
              "6        -8        17.6\n",
              "7        -7        19.4\n",
              "8        -6        21.2\n",
              "9        -5        23.0\n",
              "10       -4        24.8\n",
              "11       -3        26.6\n",
              "12       -2        28.4\n",
              "13       -1        30.2\n",
              "14        0        32.0\n",
              "15        1        33.8\n",
              "16        2        35.6\n",
              "17        3        37.4\n",
              "18        4        39.2\n",
              "19        5        41.0\n",
              "20        6        42.8\n",
              "21        7        44.6\n",
              "22        8        46.4\n",
              "23        9        48.2\n",
              "24       10        50.0\n",
              "25       20        68.0\n",
              "26       30        86.0\n",
              "27       40       104.0\n",
              "28       50       122.0\n",
              "29       60       140.0"
            ]
          },
          "metadata": {
            "tags": []
          },
          "execution_count": 7
        }
      ]
    },
    {
      "cell_type": "code",
      "metadata": {
        "id": "E7puy9-xxS4A",
        "colab_type": "code",
        "outputId": "5d9aa7d8-8ccc-41d5-d948-8c397e33ba2c",
        "colab": {
          "base_uri": "https://localhost:8080/",
          "height": 206
        }
      },
      "source": [
        "Temperature_df.head(5)"
      ],
      "execution_count": 8,
      "outputs": [
        {
          "output_type": "execute_result",
          "data": {
            "text/html": [
              "<div>\n",
              "<style scoped>\n",
              "    .dataframe tbody tr th:only-of-type {\n",
              "        vertical-align: middle;\n",
              "    }\n",
              "\n",
              "    .dataframe tbody tr th {\n",
              "        vertical-align: top;\n",
              "    }\n",
              "\n",
              "    .dataframe thead th {\n",
              "        text-align: right;\n",
              "    }\n",
              "</style>\n",
              "<table border=\"1\" class=\"dataframe\">\n",
              "  <thead>\n",
              "    <tr style=\"text-align: right;\">\n",
              "      <th></th>\n",
              "      <th>Celsius</th>\n",
              "      <th>Fahrenheit</th>\n",
              "    </tr>\n",
              "  </thead>\n",
              "  <tbody>\n",
              "    <tr>\n",
              "      <th>0</th>\n",
              "      <td>-50</td>\n",
              "      <td>-58.0</td>\n",
              "    </tr>\n",
              "    <tr>\n",
              "      <th>1</th>\n",
              "      <td>-40</td>\n",
              "      <td>-40.0</td>\n",
              "    </tr>\n",
              "    <tr>\n",
              "      <th>2</th>\n",
              "      <td>-30</td>\n",
              "      <td>-22.0</td>\n",
              "    </tr>\n",
              "    <tr>\n",
              "      <th>3</th>\n",
              "      <td>-20</td>\n",
              "      <td>-4.0</td>\n",
              "    </tr>\n",
              "    <tr>\n",
              "      <th>4</th>\n",
              "      <td>-10</td>\n",
              "      <td>14.0</td>\n",
              "    </tr>\n",
              "  </tbody>\n",
              "</table>\n",
              "</div>"
            ],
            "text/plain": [
              "   Celsius  Fahrenheit\n",
              "0      -50       -58.0\n",
              "1      -40       -40.0\n",
              "2      -30       -22.0\n",
              "3      -20        -4.0\n",
              "4      -10        14.0"
            ]
          },
          "metadata": {
            "tags": []
          },
          "execution_count": 8
        }
      ]
    },
    {
      "cell_type": "code",
      "metadata": {
        "id": "RUt2ON_UxyYk",
        "colab_type": "code",
        "outputId": "294a1944-5694-4c77-94c6-7c564737e1fc",
        "colab": {
          "base_uri": "https://localhost:8080/",
          "height": 363
        }
      },
      "source": [
        "Temperature_df.tail(10)"
      ],
      "execution_count": 9,
      "outputs": [
        {
          "output_type": "execute_result",
          "data": {
            "text/html": [
              "<div>\n",
              "<style scoped>\n",
              "    .dataframe tbody tr th:only-of-type {\n",
              "        vertical-align: middle;\n",
              "    }\n",
              "\n",
              "    .dataframe tbody tr th {\n",
              "        vertical-align: top;\n",
              "    }\n",
              "\n",
              "    .dataframe thead th {\n",
              "        text-align: right;\n",
              "    }\n",
              "</style>\n",
              "<table border=\"1\" class=\"dataframe\">\n",
              "  <thead>\n",
              "    <tr style=\"text-align: right;\">\n",
              "      <th></th>\n",
              "      <th>Celsius</th>\n",
              "      <th>Fahrenheit</th>\n",
              "    </tr>\n",
              "  </thead>\n",
              "  <tbody>\n",
              "    <tr>\n",
              "      <th>20</th>\n",
              "      <td>6</td>\n",
              "      <td>42.8</td>\n",
              "    </tr>\n",
              "    <tr>\n",
              "      <th>21</th>\n",
              "      <td>7</td>\n",
              "      <td>44.6</td>\n",
              "    </tr>\n",
              "    <tr>\n",
              "      <th>22</th>\n",
              "      <td>8</td>\n",
              "      <td>46.4</td>\n",
              "    </tr>\n",
              "    <tr>\n",
              "      <th>23</th>\n",
              "      <td>9</td>\n",
              "      <td>48.2</td>\n",
              "    </tr>\n",
              "    <tr>\n",
              "      <th>24</th>\n",
              "      <td>10</td>\n",
              "      <td>50.0</td>\n",
              "    </tr>\n",
              "    <tr>\n",
              "      <th>25</th>\n",
              "      <td>20</td>\n",
              "      <td>68.0</td>\n",
              "    </tr>\n",
              "    <tr>\n",
              "      <th>26</th>\n",
              "      <td>30</td>\n",
              "      <td>86.0</td>\n",
              "    </tr>\n",
              "    <tr>\n",
              "      <th>27</th>\n",
              "      <td>40</td>\n",
              "      <td>104.0</td>\n",
              "    </tr>\n",
              "    <tr>\n",
              "      <th>28</th>\n",
              "      <td>50</td>\n",
              "      <td>122.0</td>\n",
              "    </tr>\n",
              "    <tr>\n",
              "      <th>29</th>\n",
              "      <td>60</td>\n",
              "      <td>140.0</td>\n",
              "    </tr>\n",
              "  </tbody>\n",
              "</table>\n",
              "</div>"
            ],
            "text/plain": [
              "    Celsius  Fahrenheit\n",
              "20        6        42.8\n",
              "21        7        44.6\n",
              "22        8        46.4\n",
              "23        9        48.2\n",
              "24       10        50.0\n",
              "25       20        68.0\n",
              "26       30        86.0\n",
              "27       40       104.0\n",
              "28       50       122.0\n",
              "29       60       140.0"
            ]
          },
          "metadata": {
            "tags": []
          },
          "execution_count": 9
        }
      ]
    },
    {
      "cell_type": "code",
      "metadata": {
        "id": "hMq3-KWOx0e1",
        "colab_type": "code",
        "outputId": "f5fc855c-5b6f-48f8-9c67-d5ad406dfcb3",
        "colab": {
          "base_uri": "https://localhost:8080/",
          "height": 146
        }
      },
      "source": [
        "Temperature_df.info()"
      ],
      "execution_count": 10,
      "outputs": [
        {
          "output_type": "stream",
          "text": [
            "<class 'pandas.core.frame.DataFrame'>\n",
            "RangeIndex: 30 entries, 0 to 29\n",
            "Data columns (total 2 columns):\n",
            "Celsius       30 non-null int64\n",
            "Fahrenheit    30 non-null float64\n",
            "dtypes: float64(1), int64(1)\n",
            "memory usage: 608.0 bytes\n"
          ],
          "name": "stdout"
        }
      ]
    },
    {
      "cell_type": "code",
      "metadata": {
        "id": "s0E9xPLdx2Ok",
        "colab_type": "code",
        "outputId": "a976aa48-cd9f-462a-b1a6-c08b6d4f118d",
        "colab": {
          "base_uri": "https://localhost:8080/",
          "height": 300
        }
      },
      "source": [
        "Temperature_df.describe()"
      ],
      "execution_count": 11,
      "outputs": [
        {
          "output_type": "execute_result",
          "data": {
            "text/html": [
              "<div>\n",
              "<style scoped>\n",
              "    .dataframe tbody tr th:only-of-type {\n",
              "        vertical-align: middle;\n",
              "    }\n",
              "\n",
              "    .dataframe tbody tr th {\n",
              "        vertical-align: top;\n",
              "    }\n",
              "\n",
              "    .dataframe thead th {\n",
              "        text-align: right;\n",
              "    }\n",
              "</style>\n",
              "<table border=\"1\" class=\"dataframe\">\n",
              "  <thead>\n",
              "    <tr style=\"text-align: right;\">\n",
              "      <th></th>\n",
              "      <th>Celsius</th>\n",
              "      <th>Fahrenheit</th>\n",
              "    </tr>\n",
              "  </thead>\n",
              "  <tbody>\n",
              "    <tr>\n",
              "      <th>count</th>\n",
              "      <td>30.000000</td>\n",
              "      <td>30.000000</td>\n",
              "    </tr>\n",
              "    <tr>\n",
              "      <th>mean</th>\n",
              "      <td>2.000000</td>\n",
              "      <td>35.600000</td>\n",
              "    </tr>\n",
              "    <tr>\n",
              "      <th>std</th>\n",
              "      <td>22.780815</td>\n",
              "      <td>41.005466</td>\n",
              "    </tr>\n",
              "    <tr>\n",
              "      <th>min</th>\n",
              "      <td>-50.000000</td>\n",
              "      <td>-58.000000</td>\n",
              "    </tr>\n",
              "    <tr>\n",
              "      <th>25%</th>\n",
              "      <td>-6.750000</td>\n",
              "      <td>19.850000</td>\n",
              "    </tr>\n",
              "    <tr>\n",
              "      <th>50%</th>\n",
              "      <td>0.500000</td>\n",
              "      <td>32.900000</td>\n",
              "    </tr>\n",
              "    <tr>\n",
              "      <th>75%</th>\n",
              "      <td>7.750000</td>\n",
              "      <td>45.950000</td>\n",
              "    </tr>\n",
              "    <tr>\n",
              "      <th>max</th>\n",
              "      <td>60.000000</td>\n",
              "      <td>140.000000</td>\n",
              "    </tr>\n",
              "  </tbody>\n",
              "</table>\n",
              "</div>"
            ],
            "text/plain": [
              "         Celsius  Fahrenheit\n",
              "count  30.000000   30.000000\n",
              "mean    2.000000   35.600000\n",
              "std    22.780815   41.005466\n",
              "min   -50.000000  -58.000000\n",
              "25%    -6.750000   19.850000\n",
              "50%     0.500000   32.900000\n",
              "75%     7.750000   45.950000\n",
              "max    60.000000  140.000000"
            ]
          },
          "metadata": {
            "tags": []
          },
          "execution_count": 11
        }
      ]
    },
    {
      "cell_type": "markdown",
      "metadata": {
        "id": "LlszUhNNyrl_",
        "colab_type": "text"
      },
      "source": [
        "# STEP #2: VISUALIZE DATASET"
      ]
    },
    {
      "cell_type": "code",
      "metadata": {
        "id": "TYcWopZVyvAs",
        "colab_type": "code",
        "outputId": "42257e10-512e-426f-fee3-27dc0410e74e",
        "colab": {
          "base_uri": "https://localhost:8080/",
          "height": 297
        }
      },
      "source": [
        "sns.scatterplot(Temperature_df['Celsius'], Temperature_df['Fahrenheit'])"
      ],
      "execution_count": 12,
      "outputs": [
        {
          "output_type": "execute_result",
          "data": {
            "text/plain": [
              "<matplotlib.axes._subplots.AxesSubplot at 0x7fc3091680b8>"
            ]
          },
          "metadata": {
            "tags": []
          },
          "execution_count": 12
        },
        {
          "output_type": "display_data",
          "data": {
            "image/png": "[encoded data removed]",
            "text/plain": [
              "<Figure size 432x288 with 1 Axes>"
            ]
          },
          "metadata": {
            "tags": []
          }
        }
      ]
    },
    {
      "cell_type": "markdown",
      "metadata": {
        "id": "Y0GmpAjG3GiH",
        "colab_type": "text"
      },
      "source": [
        "# STEP #3: CREATE TESTING AND TRAINING DATASET"
      ]
    },
    {
      "cell_type": "code",
      "metadata": {
        "id": "0-maV8hb9rYM",
        "colab_type": "code",
        "colab": {}
      },
      "source": [
        "X_train = Temperature_df['Celsius']\n",
        "y_train = Temperature_df['Fahrenheit']\n"
      ],
      "execution_count": 0,
      "outputs": []
    },
    {
      "cell_type": "markdown",
      "metadata": {
        "id": "53qDZFRn3-S1",
        "colab_type": "text"
      },
      "source": [
        "# STEP#4: BUILD AND TRAIN THE MODEL"
      ]
    },
    {
      "cell_type": "code",
      "metadata": {
        "id": "DqIp8uvJ3cGi",
        "colab_type": "code",
        "colab": {
          "base_uri": "https://localhost:8080/",
          "height": 35
        },
        "outputId": "9982d518-c3b4-4785-f50b-1a4c5aef7a38"
      },
      "source": [
        "X_train.shape"
      ],
      "execution_count": 14,
      "outputs": [
        {
          "output_type": "execute_result",
          "data": {
            "text/plain": [
              "(30,)"
            ]
          },
          "metadata": {
            "tags": []
          },
          "execution_count": 14
        }
      ]
    },
    {
      "cell_type": "code",
      "metadata": {
        "id": "d4wfApza3cEc",
        "colab_type": "code",
        "colab": {
          "base_uri": "https://localhost:8080/",
          "height": 35
        },
        "outputId": "6dc046ef-70cb-445e-b80c-2b0e940d47f5"
      },
      "source": [
        "y_train.shape"
      ],
      "execution_count": 15,
      "outputs": [
        {
          "output_type": "execute_result",
          "data": {
            "text/plain": [
              "(30,)"
            ]
          },
          "metadata": {
            "tags": []
          },
          "execution_count": 15
        }
      ]
    },
    {
      "cell_type": "code",
      "metadata": {
        "id": "Yl6fmPJj3cCX",
        "colab_type": "code",
        "colab": {}
      },
      "source": [
        "model = tf.keras.Sequential()\n",
        "model.add(tf.keras.layers.Dense(units=1, input_shape=[1]))\n",
        "\n"
      ],
      "execution_count": 0,
      "outputs": []
    },
    {
      "cell_type": "code",
      "metadata": {
        "id": "GUd71odB4v-i",
        "colab_type": "code",
        "colab": {
          "base_uri": "https://localhost:8080/",
          "height": 202
        },
        "outputId": "37a0fc99-80de-42aa-a804-fdf45b204e26"
      },
      "source": [
        "model.summary()"
      ],
      "execution_count": 17,
      "outputs": [
        {
          "output_type": "stream",
          "text": [
            "Model: \"sequential\"\n",
            "_________________________________________________________________\n",
            "Layer (type)                 Output Shape              Param #   \n",
            "=================================================================\n",
            "dense (Dense)                (None, 1)                 2         \n",
            "=================================================================\n",
            "Total params: 2\n",
            "Trainable params: 2\n",
            "Non-trainable params: 0\n",
            "_________________________________________________________________\n"
          ],
          "name": "stdout"
        }
      ]
    },
    {
      "cell_type": "code",
      "metadata": {
        "id": "BYmvNpNw5Act",
        "colab_type": "code",
        "colab": {}
      },
      "source": [
        "model.compile(optimizer=tf.keras.optimizers.Adam(0.5), loss='mean_squared_error')"
      ],
      "execution_count": 0,
      "outputs": []
    },
    {
      "cell_type": "code",
      "metadata": {
        "id": "tpia0VBS5Ljw",
        "colab_type": "code",
        "colab": {
          "base_uri": "https://localhost:8080/",
          "height": 1000
        },
        "outputId": "cd026341-29cd-42fa-9953-35509c9ccd34"
      },
      "source": [
        "epochs_hist = model.fit(X_train, y_train, epochs = 100)"
      ],
      "execution_count": 19,
      "outputs": [
        {
          "output_type": "stream",
          "text": [
            "Epoch 1/100\n",
            "30/30 [==============================] - 1s 44ms/sample - loss: 5901.5591\n",
            "Epoch 2/100\n",
            "30/30 [==============================] - 0s 114us/sample - loss: 4419.4346\n",
            "Epoch 3/100\n",
            "30/30 [==============================] - 0s 105us/sample - loss: 3201.6682\n",
            "Epoch 4/100\n",
            "30/30 [==============================] - 0s 116us/sample - loss: 2248.7781\n",
            "Epoch 5/100\n",
            "30/30 [==============================] - 0s 224us/sample - loss: 1554.7887\n",
            "Epoch 6/100\n",
            "30/30 [==============================] - 0s 145us/sample - loss: 1104.5720\n",
            "Epoch 7/100\n",
            "30/30 [==============================] - 0s 164us/sample - loss: 871.1875\n",
            "Epoch 8/100\n",
            "30/30 [==============================] - 0s 198us/sample - loss: 814.4313\n",
            "Epoch 9/100\n",
            "30/30 [==============================] - 0s 110us/sample - loss: 882.3298\n",
            "Epoch 10/100\n",
            "30/30 [==============================] - 0s 84us/sample - loss: 1016.8475\n",
            "Epoch 11/100\n",
            "30/30 [==============================] - 0s 107us/sample - loss: 1162.9651\n",
            "Epoch 12/100\n",
            "30/30 [==============================] - 0s 93us/sample - loss: 1277.7289\n",
            "Epoch 13/100\n",
            "30/30 [==============================] - 0s 80us/sample - loss: 1335.5231\n",
            "Epoch 14/100\n",
            "30/30 [==============================] - 0s 112us/sample - loss: 1328.2068\n",
            "Epoch 15/100\n",
            "30/30 [==============================] - 0s 123us/sample - loss: 1261.5135\n",
            "Epoch 16/100\n",
            "30/30 [==============================] - 0s 81us/sample - loss: 1150.0359\n",
            "Epoch 17/100\n",
            "30/30 [==============================] - 0s 78us/sample - loss: 1012.4844\n",
            "Epoch 18/100\n",
            "30/30 [==============================] - 0s 79us/sample - loss: 867.9265\n",
            "Epoch 19/100\n",
            "30/30 [==============================] - 0s 174us/sample - loss: 733.0905\n",
            "Epoch 20/100\n",
            "30/30 [==============================] - 0s 122us/sample - loss: 620.5901\n",
            "Epoch 21/100\n",
            "30/30 [==============================] - 0s 99us/sample - loss: 537.9328\n",
            "Epoch 22/100\n",
            "30/30 [==============================] - 0s 119us/sample - loss: 487.2436\n",
            "Epoch 23/100\n",
            "30/30 [==============================] - 0s 138us/sample - loss: 465.6780\n",
            "Epoch 24/100\n",
            "30/30 [==============================] - 0s 115us/sample - loss: 466.4799\n",
            "Epoch 25/100\n",
            "30/30 [==============================] - 0s 106us/sample - loss: 480.5465\n",
            "Epoch 26/100\n",
            "30/30 [==============================] - 0s 140us/sample - loss: 498.2402\n",
            "Epoch 27/100\n",
            "30/30 [==============================] - 0s 81us/sample - loss: 511.1032\n",
            "Epoch 28/100\n",
            "30/30 [==============================] - 0s 91us/sample - loss: 513.1484\n",
            "Epoch 29/100\n",
            "30/30 [==============================] - 0s 127us/sample - loss: 501.5154\n",
            "Epoch 30/100\n",
            "30/30 [==============================] - 0s 98us/sample - loss: 476.4566\n",
            "Epoch 31/100\n",
            "30/30 [==============================] - 0s 85us/sample - loss: 440.7661\n",
            "Epoch 32/100\n",
            "30/30 [==============================] - 0s 133us/sample - loss: 398.8589\n",
            "Epoch 33/100\n",
            "30/30 [==============================] - 0s 95us/sample - loss: 355.7235\n",
            "Epoch 34/100\n",
            "30/30 [==============================] - 0s 99us/sample - loss: 315.9452\n",
            "Epoch 35/100\n",
            "30/30 [==============================] - 0s 135us/sample - loss: 282.9462\n",
            "Epoch 36/100\n",
            "30/30 [==============================] - 0s 103us/sample - loss: 258.5361\n",
            "Epoch 37/100\n",
            "30/30 [==============================] - 0s 113us/sample - loss: 242.8063\n",
            "Epoch 38/100\n",
            "30/30 [==============================] - 0s 129us/sample - loss: 234.3506\n",
            "Epoch 39/100\n",
            "30/30 [==============================] - 0s 108us/sample - loss: 230.7372\n",
            "Epoch 40/100\n",
            "30/30 [==============================] - 0s 115us/sample - loss: 229.1179\n",
            "Epoch 41/100\n",
            "30/30 [==============================] - 0s 144us/sample - loss: 226.8397\n",
            "Epoch 42/100\n",
            "30/30 [==============================] - 0s 103us/sample - loss: 221.9362\n",
            "Epoch 43/100\n",
            "30/30 [==============================] - 0s 158us/sample - loss: 213.4114\n",
            "Epoch 44/100\n",
            "30/30 [==============================] - 0s 139us/sample - loss: 201.2864\n",
            "Epoch 45/100\n",
            "30/30 [==============================] - 0s 113us/sample - loss: 186.4316\n",
            "Epoch 46/100\n",
            "30/30 [==============================] - 0s 107us/sample - loss: 170.2514\n",
            "Epoch 47/100\n",
            "30/30 [==============================] - 0s 165us/sample - loss: 154.3059\n",
            "Epoch 48/100\n",
            "30/30 [==============================] - 0s 207us/sample - loss: 139.9579\n",
            "Epoch 49/100\n",
            "30/30 [==============================] - 0s 194us/sample - loss: 128.1117\n",
            "Epoch 50/100\n",
            "30/30 [==============================] - 0s 172us/sample - loss: 119.0871\n",
            "Epoch 51/100\n",
            "30/30 [==============================] - 0s 196us/sample - loss: 112.6356\n",
            "Epoch 52/100\n",
            "30/30 [==============================] - 0s 168us/sample - loss: 108.0769\n",
            "Epoch 53/100\n",
            "30/30 [==============================] - 0s 173us/sample - loss: 104.5105\n",
            "Epoch 54/100\n",
            "30/30 [==============================] - 0s 173us/sample - loss: 101.0459\n",
            "Epoch 55/100\n",
            "30/30 [==============================] - 0s 174us/sample - loss: 96.9973\n",
            "Epoch 56/100\n",
            "30/30 [==============================] - 0s 162us/sample - loss: 92.0027\n",
            "Epoch 57/100\n",
            "30/30 [==============================] - 0s 161us/sample - loss: 86.0525\n",
            "Epoch 58/100\n",
            "30/30 [==============================] - 0s 192us/sample - loss: 79.4323\n",
            "Epoch 59/100\n",
            "30/30 [==============================] - 0s 195us/sample - loss: 72.6064\n",
            "Epoch 60/100\n",
            "30/30 [==============================] - 0s 207us/sample - loss: 66.0780\n",
            "Epoch 61/100\n",
            "30/30 [==============================] - 0s 197us/sample - loss: 60.2608\n",
            "Epoch 62/100\n",
            "30/30 [==============================] - 0s 140us/sample - loss: 55.3925\n",
            "Epoch 63/100\n",
            "30/30 [==============================] - 0s 173us/sample - loss: 51.5025\n",
            "Epoch 64/100\n",
            "30/30 [==============================] - 0s 279us/sample - loss: 48.4353\n",
            "Epoch 65/100\n",
            "30/30 [==============================] - 0s 192us/sample - loss: 45.9152\n",
            "Epoch 66/100\n",
            "30/30 [==============================] - 0s 150us/sample - loss: 43.6306\n",
            "Epoch 67/100\n",
            "30/30 [==============================] - 0s 182us/sample - loss: 41.3146\n",
            "Epoch 68/100\n",
            "30/30 [==============================] - 0s 187us/sample - loss: 38.8015\n",
            "Epoch 69/100\n",
            "30/30 [==============================] - 0s 158us/sample - loss: 36.0501\n",
            "Epoch 70/100\n",
            "30/30 [==============================] - 0s 155us/sample - loss: 33.1311\n",
            "Epoch 71/100\n",
            "30/30 [==============================] - 0s 159us/sample - loss: 30.1888\n",
            "Epoch 72/100\n",
            "30/30 [==============================] - 0s 189us/sample - loss: 27.3898\n",
            "Epoch 73/100\n",
            "30/30 [==============================] - 0s 183us/sample - loss: 24.8739\n",
            "Epoch 74/100\n",
            "30/30 [==============================] - 0s 160us/sample - loss: 22.7202\n",
            "Epoch 75/100\n",
            "30/30 [==============================] - 0s 158us/sample - loss: 20.9340\n",
            "Epoch 76/100\n",
            "30/30 [==============================] - 0s 152us/sample - loss: 19.4560\n",
            "Epoch 77/100\n",
            "30/30 [==============================] - 0s 159us/sample - loss: 18.1863\n",
            "Epoch 78/100\n",
            "30/30 [==============================] - 0s 141us/sample - loss: 17.0166\n",
            "Epoch 79/100\n",
            "30/30 [==============================] - 0s 140us/sample - loss: 15.8588\n",
            "Epoch 80/100\n",
            "30/30 [==============================] - 0s 142us/sample - loss: 14.6640\n",
            "Epoch 81/100\n",
            "30/30 [==============================] - 0s 153us/sample - loss: 13.4278\n",
            "Epoch 82/100\n",
            "30/30 [==============================] - 0s 146us/sample - loss: 12.1823\n",
            "Epoch 83/100\n",
            "30/30 [==============================] - 0s 122us/sample - loss: 10.9802\n",
            "Epoch 84/100\n",
            "30/30 [==============================] - 0s 129us/sample - loss: 9.8746\n",
            "Epoch 85/100\n",
            "30/30 [==============================] - 0s 142us/sample - loss: 8.9031\n",
            "Epoch 86/100\n",
            "30/30 [==============================] - 0s 149us/sample - loss: 8.0784\n",
            "Epoch 87/100\n",
            "30/30 [==============================] - 0s 168us/sample - loss: 7.3877\n",
            "Epoch 88/100\n",
            "30/30 [==============================] - 0s 146us/sample - loss: 6.7990\n",
            "Epoch 89/100\n",
            "30/30 [==============================] - 0s 140us/sample - loss: 6.2731\n",
            "Epoch 90/100\n",
            "30/30 [==============================] - 0s 127us/sample - loss: 5.7743\n",
            "Epoch 91/100\n",
            "30/30 [==============================] - 0s 233us/sample - loss: 5.2799\n",
            "Epoch 92/100\n",
            "30/30 [==============================] - 0s 153us/sample - loss: 4.7828\n",
            "Epoch 93/100\n",
            "30/30 [==============================] - 0s 112us/sample - loss: 4.2910\n",
            "Epoch 94/100\n",
            "30/30 [==============================] - 0s 199us/sample - loss: 3.8208\n",
            "Epoch 95/100\n",
            "30/30 [==============================] - 0s 111us/sample - loss: 3.3905\n",
            "Epoch 96/100\n",
            "30/30 [==============================] - 0s 172us/sample - loss: 3.0133\n",
            "Epoch 97/100\n",
            "30/30 [==============================] - 0s 158us/sample - loss: 2.6937\n",
            "Epoch 98/100\n",
            "30/30 [==============================] - 0s 117us/sample - loss: 2.4268\n",
            "Epoch 99/100\n",
            "30/30 [==============================] - 0s 94us/sample - loss: 2.2007\n",
            "Epoch 100/100\n",
            "30/30 [==============================] - 0s 92us/sample - loss: 2.0007\n"
          ],
          "name": "stdout"
        }
      ]
    },
    {
      "cell_type": "markdown",
      "metadata": {
        "id": "-wRQqOeB5Zh5",
        "colab_type": "text"
      },
      "source": [
        "# STEP#5: EVALUATING THE MODEL "
      ]
    },
    {
      "cell_type": "code",
      "metadata": {
        "id": "dfUb63035TJL",
        "colab_type": "code",
        "colab": {
          "base_uri": "https://localhost:8080/",
          "height": 35
        },
        "outputId": "bb5f37d1-1132-4f13-ecc3-0246c0f01c7c"
      },
      "source": [
        "epochs_hist.history.keys()"
      ],
      "execution_count": 20,
      "outputs": [
        {
          "output_type": "execute_result",
          "data": {
            "text/plain": [
              "dict_keys(['loss'])"
            ]
          },
          "metadata": {
            "tags": []
          },
          "execution_count": 20
        }
      ]
    },
    {
      "cell_type": "code",
      "metadata": {
        "id": "eXiDop_l5erJ",
        "colab_type": "code",
        "colab": {
          "base_uri": "https://localhost:8080/",
          "height": 313
        },
        "outputId": "27414642-935c-4475-d325-98ec61b05939"
      },
      "source": [
        "plt.plot(epochs_hist.history['loss'])\n",
        "plt.title('Model Loss Progress During Training')\n",
        "plt.xlabel('Epoch')\n",
        "plt.ylabel('Training Loss')\n",
        "plt.legend(['Training Loss'])"
      ],
      "execution_count": 21,
      "outputs": [
        {
          "output_type": "execute_result",
          "data": {
            "text/plain": [
              "<matplotlib.legend.Legend at 0x7fc2fa2a7080>"
            ]
          },
          "metadata": {
            "tags": []
          },
          "execution_count": 21
        },
        {
          "output_type": "display_data",
          "data": {
            "image/png": "[encoded data removed]",
            "text/plain": [
              "<Figure size 432x288 with 1 Axes>"
            ]
          },
          "metadata": {
            "tags": []
          }
        }
      ]
    },
    {
      "cell_type": "code",
      "metadata": {
        "id": "yFYpuUJWBn6L",
        "colab_type": "code",
        "colab": {
          "base_uri": "https://localhost:8080/",
          "height": 35
        },
        "outputId": "5c392a06-76bd-444f-c759-087b40318420"
      },
      "source": [
        "model.get_weights()"
      ],
      "execution_count": 22,
      "outputs": [
        {
          "output_type": "execute_result",
          "data": {
            "text/plain": [
              "[array([[1.7924906]], dtype=float32), array([30.678804], dtype=float32)]"
            ]
          },
          "metadata": {
            "tags": []
          },
          "execution_count": 22
        }
      ]
    },
    {
      "cell_type": "code",
      "metadata": {
        "id": "isfjfT735fjD",
        "colab_type": "code",
        "colab": {
          "base_uri": "https://localhost:8080/",
          "height": 35
        },
        "outputId": "2e0182a8-e0bf-40c1-e869-e040aeb006c3"
      },
      "source": [
        "# Use the trained model to perform predictions\n",
        "\n",
        "Temp_C = 0\n",
        "Temp_F = model.predict([Temp_C])\n",
        "print('Temperature in degF Using Trained ANN =', Temp_F)\n"
      ],
      "execution_count": 23,
      "outputs": [
        {
          "output_type": "stream",
          "text": [
            "Temperature in degF Using Trained ANN = [[30.678804]]\n"
          ],
          "name": "stdout"
        }
      ]
    },
    {
      "cell_type": "code",
      "metadata": {
        "id": "mfP_j7LaDjNR",
        "colab_type": "code",
        "colab": {
          "base_uri": "https://localhost:8080/",
          "height": 35
        },
        "outputId": "1001254f-6429-456a-9f6e-3415e0763f0c"
      },
      "source": [
        "# Let's confirm this Using the equation: \n",
        "Temp_F = 9/5 * Temp_C + 32\n",
        "print('Temperature in degF Using Equation =', Temp_F)\n"
      ],
      "execution_count": 24,
      "outputs": [
        {
          "output_type": "stream",
          "text": [
            "Temperature in degF Using Equation = 32.0\n"
          ],
          "name": "stdout"
        }
      ]
    },
    {
      "cell_type": "markdown",
      "metadata": {
        "id": "27OgYEJu9EFV",
        "colab_type": "text"
      },
      "source": [
        "# EXCELLENT JOB & CONGRATULATIONS! NOW YOU HAVE BUILT YOUR FIRST NEURAL NETWORK MODEL USING TENSORFLOW 2.0 IN GOOGLE COLAB! "
      ]
    },
    {
      "cell_type": "code",
      "metadata": {
        "id": "RwVZg2iYFldq",
        "colab_type": "code",
        "colab": {}
      },
      "source": [
        ""
      ],
      "execution_count": 0,
      "outputs": []
    }
  ]
}